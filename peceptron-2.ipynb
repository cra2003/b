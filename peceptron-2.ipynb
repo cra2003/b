{
 "cells": [
  {
   "cell_type": "code",
   "execution_count": 2,
   "id": "a0cddc50",
   "metadata": {},
   "outputs": [],
   "source": [
    "import numpy as np"
   ]
  },
  {
   "cell_type": "markdown",
   "id": "4655f412",
   "metadata": {},
   "source": [
    "# OR"
   ]
  },
  {
   "cell_type": "code",
   "execution_count": 3,
   "id": "a1c74f19",
   "metadata": {},
   "outputs": [],
   "source": [
    "x=np.array([[0,0],[0,1],[1,0],[1,1]])\n",
    "y=[0,1,1,1]"
   ]
  },
  {
   "cell_type": "code",
   "execution_count": 5,
   "id": "c6ebb772",
   "metadata": {},
   "outputs": [
    {
     "name": "stdout",
     "output_type": "stream",
     "text": [
      "epoch  0\n",
      "[1 1 1 1] [0, 1, 1, 1]\n",
      "epoch  1\n",
      "[1 0 1 1] [0, 1, 1, 1]\n",
      "epoch  2\n",
      "[1 1 1 1] [0, 1, 1, 1]\n",
      "epoch  3\n",
      "[0 0 1 1] [0, 1, 1, 1]\n",
      "epoch  4\n",
      "[1 1 1 1] [0, 1, 1, 1]\n",
      "epoch  5\n",
      "[0 1 1 1] [0, 1, 1, 1]\n"
     ]
    }
   ],
   "source": [
    "def act(x):\n",
    "    return (x>=0).astype(int)\n",
    "def training(x,y,epoch,learning_rate):\n",
    "    try:\n",
    "        feature=x.shape[1]\n",
    "    except:\n",
    "        feature=1\n",
    "    if feature!=1:\n",
    "        w=np.random.normal((feature,1))\n",
    "    else:\n",
    "        w=np.random.normal((feature))\n",
    "    b=0.5\n",
    "    for n in range(epoch):\n",
    "        yc=np.dot(x,w)+b\n",
    "        print('epoch ',n)\n",
    "        wsum=act(yc)\n",
    "        print(wsum,y)\n",
    "        error=y-wsum\n",
    "        w+=np.dot(error,x)*learning_rate\n",
    "        b+=np.sum(error)*learning_rate\n",
    "        if all(error==0):\n",
    "            return w,b\n",
    "w,b=(training(x,y,100,0.5))\n",
    "def predict(inputs):\n",
    "    inputs=np.array(inputs)\n",
    "    y=np.dot(inputs,w)+b\n",
    "    y=act(y)\n",
    "    return y\n",
    "\n",
    "\n"
   ]
  },
  {
   "cell_type": "code",
   "execution_count": 6,
   "id": "e1651803",
   "metadata": {},
   "outputs": [
    {
     "data": {
      "text/plain": [
       "1"
      ]
     },
     "execution_count": 6,
     "metadata": {},
     "output_type": "execute_result"
    }
   ],
   "source": [
    "inputs=[[1,0]]\n",
    "\n",
    "predict(inputs)[0]"
   ]
  },
  {
   "cell_type": "markdown",
   "id": "b7722c2c",
   "metadata": {},
   "source": [
    "# NOT"
   ]
  },
  {
   "cell_type": "code",
   "execution_count": 8,
   "id": "78a8e452",
   "metadata": {},
   "outputs": [],
   "source": [
    "x=np.array([0,1])\n",
    "y=[1,0]"
   ]
  },
  {
   "cell_type": "code",
   "execution_count": 9,
   "id": "cdd1b5e3",
   "metadata": {},
   "outputs": [
    {
     "name": "stdout",
     "output_type": "stream",
     "text": [
      "epoch  0\n",
      "[1 1] [1, 0]\n",
      "epoch  1\n",
      "[1 1] [1, 0]\n",
      "epoch  2\n",
      "[0 0] [1, 0]\n",
      "epoch  3\n",
      "[1 1] [1, 0]\n",
      "epoch  4\n",
      "[0 0] [1, 0]\n",
      "epoch  5\n",
      "[1 0] [1, 0]\n"
     ]
    }
   ],
   "source": [
    "def act(x):\n",
    "    return (x>=0).astype(int)\n",
    "def training(x,y,epoch,learning_rate):\n",
    "    try:\n",
    "        feature=x.shape[1]\n",
    "    except:\n",
    "        feature=1\n",
    "    if feature!=1:\n",
    "        w=np.random.normal((feature,1))\n",
    "    else:\n",
    "        w=np.random.normal((feature))\n",
    "    b=0.5\n",
    "    for n in range(epoch):\n",
    "        yc=np.dot(x,w)+b\n",
    "        print('epoch ',n)\n",
    "        wsum=act(yc)\n",
    "        print(wsum,y)\n",
    "        error=y-wsum\n",
    "        w+=np.dot(error,x)*learning_rate\n",
    "        b+=np.sum(error)*learning_rate\n",
    "        if all(error==0):\n",
    "            return w,b\n",
    "w,b=(training(x,y,100,0.5))\n",
    "def predict(inputs):\n",
    "    inputs=np.array(inputs)\n",
    "    y=np.dot(inputs,w)+b\n",
    "    y=act(y)\n",
    "    return y\n"
   ]
  },
  {
   "cell_type": "code",
   "execution_count": 13,
   "id": "390a628e",
   "metadata": {},
   "outputs": [
    {
     "data": {
      "text/plain": [
       "1"
      ]
     },
     "execution_count": 13,
     "metadata": {},
     "output_type": "execute_result"
    }
   ],
   "source": [
    "inputs=[[0]]\n",
    "\n",
    "predict(inputs)[0][0]"
   ]
  },
  {
   "cell_type": "markdown",
   "id": "39cef630",
   "metadata": {},
   "source": [
    "# AND"
   ]
  },
  {
   "cell_type": "code",
   "execution_count": 14,
   "id": "fef2da5d",
   "metadata": {},
   "outputs": [],
   "source": [
    "x=np.array([[0,0],[0,1],[1,0],[1,1]])\n",
    "y=[0,0,0,1]"
   ]
  },
  {
   "cell_type": "code",
   "execution_count": 15,
   "id": "9636c448",
   "metadata": {},
   "outputs": [
    {
     "name": "stdout",
     "output_type": "stream",
     "text": [
      "epoch  0\n",
      "[1 0 1 1] [0, 0, 0, 1]\n",
      "epoch  1\n",
      "[0 0 1 0] [0, 0, 0, 1]\n",
      "epoch  2\n",
      "[0 0 1 1] [0, 0, 0, 1]\n",
      "epoch  3\n",
      "[0 0 1 0] [0, 0, 0, 1]\n",
      "epoch  4\n",
      "[0 0 1 0] [0, 0, 0, 1]\n",
      "epoch  5\n",
      "[0 0 1 1] [0, 0, 0, 1]\n",
      "epoch  6\n",
      "[0 0 0 0] [0, 0, 0, 1]\n",
      "epoch  7\n",
      "[0 0 1 1] [0, 0, 0, 1]\n",
      "epoch  8\n",
      "[0 0 0 0] [0, 0, 0, 1]\n",
      "epoch  9\n",
      "[0 1 1 1] [0, 0, 0, 1]\n",
      "epoch  10\n",
      "[0 0 0 0] [0, 0, 0, 1]\n",
      "epoch  11\n",
      "[0 0 0 1] [0, 0, 0, 1]\n"
     ]
    }
   ],
   "source": [
    "def act(x):\n",
    "    return (x>=0).astype(int)\n",
    "def training(x,y,epoch,learning_rate):\n",
    "    try:\n",
    "        feature=x.shape[1]\n",
    "    except:\n",
    "        feature=1\n",
    "    if feature!=1:\n",
    "        w=np.random.normal((feature,1))\n",
    "    else:\n",
    "        w=np.random.normal((feature))\n",
    "    b=0.5\n",
    "    for n in range(epoch):\n",
    "        yc=np.dot(x,w)+b\n",
    "        print('epoch ',n)\n",
    "        wsum=act(yc)\n",
    "        print(wsum,y)\n",
    "        error=y-wsum\n",
    "        w+=np.dot(error,x)*learning_rate\n",
    "        b+=np.sum(error)*learning_rate\n",
    "        if all(error==0):\n",
    "            return w,b\n",
    "w,b=(training(x,y,100,0.5))\n",
    "def predict(inputs):\n",
    "    inputs=np.array(inputs)\n",
    "    y=np.dot(inputs,w)+b\n",
    "    y=act(y)\n",
    "    return y"
   ]
  },
  {
   "cell_type": "code",
   "execution_count": 16,
   "id": "eab7c5e8",
   "metadata": {},
   "outputs": [
    {
     "data": {
      "text/plain": [
       "0"
      ]
     },
     "execution_count": 16,
     "metadata": {},
     "output_type": "execute_result"
    }
   ],
   "source": [
    "inputs=[[1,0]]\n",
    "\n",
    "predict(inputs)[0]"
   ]
  },
  {
   "cell_type": "markdown",
   "id": "aa63425c",
   "metadata": {},
   "source": [
    "# NAND"
   ]
  },
  {
   "cell_type": "code",
   "execution_count": 17,
   "id": "e919a869",
   "metadata": {},
   "outputs": [],
   "source": [
    "x=np.array([[0,0],[0,1],[1,0],[1,1]])\n",
    "y=[1,1,1,0]"
   ]
  },
  {
   "cell_type": "code",
   "execution_count": 18,
   "id": "8e3ac315",
   "metadata": {},
   "outputs": [
    {
     "name": "stdout",
     "output_type": "stream",
     "text": [
      "epoch  0\n",
      "[1 1 1 1] [1, 1, 1, 0]\n",
      "epoch  1\n",
      "[1 1 1 1] [1, 1, 1, 0]\n",
      "epoch  2\n",
      "[0 1 1 1] [1, 1, 1, 0]\n",
      "epoch  3\n",
      "[0 1 1 1] [1, 1, 1, 0]\n",
      "epoch  4\n",
      "[0 0 0 0] [1, 1, 1, 0]\n",
      "epoch  5\n",
      "[1 1 1 1] [1, 1, 1, 0]\n",
      "epoch  6\n",
      "[1 1 1 1] [1, 1, 1, 0]\n",
      "epoch  7\n",
      "[1 0 0 0] [1, 1, 1, 0]\n",
      "epoch  8\n",
      "[1 1 1 1] [1, 1, 1, 0]\n",
      "epoch  9\n",
      "[1 1 1 0] [1, 1, 1, 0]\n"
     ]
    }
   ],
   "source": [
    "def act(x):\n",
    "    return (x>=0).astype(int)\n",
    "def training(x,y,epoch,learning_rate):\n",
    "    try:\n",
    "        feature=x.shape[1]\n",
    "    except:\n",
    "        feature=1\n",
    "    if feature!=1:\n",
    "        w=np.random.normal((feature,1))\n",
    "    else:\n",
    "        w=np.random.normal((feature))\n",
    "    b=0.5\n",
    "    for n in range(epoch):\n",
    "        yc=np.dot(x,w)+b\n",
    "        print('epoch ',n)\n",
    "        wsum=act(yc)\n",
    "        print(wsum,y)\n",
    "        error=y-wsum\n",
    "        w+=np.dot(error,x)*learning_rate\n",
    "        b+=np.sum(error)*learning_rate\n",
    "        if all(error==0):\n",
    "            return w,b\n",
    "w,b=(training(x,y,100,0.5))\n",
    "def predict(inputs):\n",
    "    inputs=np.array(inputs)\n",
    "    y=np.dot(inputs,w)+b\n",
    "    y=act(y)\n",
    "    return y"
   ]
  },
  {
   "cell_type": "code",
   "execution_count": 19,
   "id": "022e5c82",
   "metadata": {},
   "outputs": [
    {
     "data": {
      "text/plain": [
       "1"
      ]
     },
     "execution_count": 19,
     "metadata": {},
     "output_type": "execute_result"
    }
   ],
   "source": [
    "inputs=[[1,0]]\n",
    "\n",
    "predict(inputs)[0]"
   ]
  },
  {
   "cell_type": "markdown",
   "id": "3721af6b",
   "metadata": {},
   "source": [
    "# NOR"
   ]
  },
  {
   "cell_type": "code",
   "execution_count": 22,
   "id": "8d6ce9f2",
   "metadata": {},
   "outputs": [],
   "source": [
    "x=np.array([[0,0],[0,1],[1,0],[1,1]])\n",
    "y=[0,0,0,1]"
   ]
  },
  {
   "cell_type": "code",
   "execution_count": 23,
   "id": "ca8b1d0c",
   "metadata": {},
   "outputs": [
    {
     "name": "stdout",
     "output_type": "stream",
     "text": [
      "epoch  0\n",
      "[1 1 1 1] [0, 0, 0, 1]\n",
      "epoch  1\n",
      "[0 0 1 1] [0, 0, 0, 1]\n",
      "epoch  2\n",
      "[0 0 0 1] [0, 0, 0, 1]\n"
     ]
    }
   ],
   "source": [
    "def act(x):\n",
    "    return (x>=0).astype(int)\n",
    "def training(x,y,epoch,learning_rate):\n",
    "    try:\n",
    "        feature=x.shape[1]\n",
    "    except:\n",
    "        feature=1\n",
    "    if feature!=1:\n",
    "        w=np.random.normal((feature,1))\n",
    "    else:\n",
    "        w=np.random.normal((feature))\n",
    "    b=0.5\n",
    "    for n in range(epoch):\n",
    "        yc=np.dot(x,w)+b\n",
    "        print('epoch ',n)\n",
    "        wsum=act(yc)\n",
    "        print(wsum,y)\n",
    "        error=y-wsum\n",
    "        w+=np.dot(error,x)*learning_rate\n",
    "        b+=np.sum(error)*learning_rate\n",
    "        if all(error==0):\n",
    "            return w,b\n",
    "w,b=(training(x,y,100,0.5))\n",
    "def predict(inputs):\n",
    "    inputs=np.array(inputs)\n",
    "    y=np.dot(inputs,w)+b\n",
    "    y=act(y)\n",
    "    return y"
   ]
  },
  {
   "cell_type": "code",
   "execution_count": 24,
   "id": "854c6d43",
   "metadata": {},
   "outputs": [
    {
     "data": {
      "text/plain": [
       "0"
      ]
     },
     "execution_count": 24,
     "metadata": {},
     "output_type": "execute_result"
    }
   ],
   "source": [
    "inputs=[[1,0]]\n",
    "\n",
    "predict(inputs)[0]"
   ]
  },
  {
   "cell_type": "markdown",
   "id": "ef9dabb7",
   "metadata": {},
   "source": [
    "# Tautology"
   ]
  },
  {
   "cell_type": "code",
   "execution_count": 25,
   "id": "afb08a76",
   "metadata": {},
   "outputs": [],
   "source": [
    "x=np.array([[0,0],[0,1],[1,0],[1,1]])\n",
    "y=[1,1,1,1]"
   ]
  },
  {
   "cell_type": "code",
   "execution_count": 26,
   "id": "111a1424",
   "metadata": {},
   "outputs": [
    {
     "name": "stdout",
     "output_type": "stream",
     "text": [
      "epoch  0\n",
      "[1 1 1 1] [1, 1, 1, 1]\n"
     ]
    }
   ],
   "source": [
    "def act(x):\n",
    "    return (x>=0).astype(int)\n",
    "def training(x,y,epoch,learning_rate):\n",
    "    try:\n",
    "        feature=x.shape[1]\n",
    "    except:\n",
    "        feature=1\n",
    "    if feature!=1:\n",
    "        w=np.random.normal((feature,1))\n",
    "    else:\n",
    "        w=np.random.normal((feature))\n",
    "    b=0.5\n",
    "    for n in range(epoch):\n",
    "        yc=np.dot(x,w)+b\n",
    "        print('epoch ',n)\n",
    "        wsum=act(yc)\n",
    "        print(wsum,y)\n",
    "        error=y-wsum\n",
    "        w+=np.dot(error,x)*learning_rate\n",
    "        b+=np.sum(error)*learning_rate\n",
    "        if all(error==0):\n",
    "            return w,b\n",
    "w,b=(training(x,y,100,0.5))\n",
    "def predict(inputs):\n",
    "    inputs=np.array(inputs)\n",
    "    y=np.dot(inputs,w)+b\n",
    "    y=act(y)\n",
    "    return y"
   ]
  },
  {
   "cell_type": "code",
   "execution_count": 27,
   "id": "b2a87d0a",
   "metadata": {},
   "outputs": [
    {
     "data": {
      "text/plain": [
       "1"
      ]
     },
     "execution_count": 27,
     "metadata": {},
     "output_type": "execute_result"
    }
   ],
   "source": [
    "inputs=[[1,0]]\n",
    "\n",
    "predict(inputs)[0]"
   ]
  },
  {
   "cell_type": "code",
   "execution_count": null,
   "id": "6104850b",
   "metadata": {},
   "outputs": [],
   "source": []
  }
 ],
 "metadata": {
  "kernelspec": {
   "display_name": "Python 3.10.8 64-bit",
   "language": "python",
   "name": "python3"
  },
  "language_info": {
   "codemirror_mode": {
    "name": "ipython",
    "version": 3
   },
   "file_extension": ".py",
   "mimetype": "text/x-python",
   "name": "python",
   "nbconvert_exporter": "python",
   "pygments_lexer": "ipython3",
   "version": "3.10.8"
  },
  "vscode": {
   "interpreter": {
    "hash": "aee8b7b246df8f9039afb4144a1f6fd8d2ca17a180786b69acc140d282b71a49"
   }
  }
 },
 "nbformat": 4,
 "nbformat_minor": 5
}
