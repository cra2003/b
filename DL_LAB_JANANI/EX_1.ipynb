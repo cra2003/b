{
 "cells": [
  {
   "cell_type": "markdown",
   "id": "326aa459-979b-4356-be29-c3f7a193f46d",
   "metadata": {},
   "source": [
    "## 1.\tImplement the 2-bit input Tautology (Always ON) Logic Gate using Perceptron Algorithm "
   ]
  },
  {
   "cell_type": "code",
   "execution_count": 61,
   "id": "25482630-aeb2-4ad3-939b-4f2029989f8e",
   "metadata": {},
   "outputs": [
    {
     "name": "stdin",
     "output_type": "stream",
     "text": [
      "Enter input1:  0\n",
      "Enter input2:  1\n"
     ]
    },
    {
     "data": {
      "text/plain": [
       "1"
      ]
     },
     "execution_count": 61,
     "metadata": {},
     "output_type": "execute_result"
    }
   ],
   "source": [
    "def activation(y1):\n",
    "    if y1>=0:\n",
    "        return 1\n",
    "    else:\n",
    "        return 0\n",
    "    \n",
    "def perceptron(inp1,inp2):\n",
    "    x1=[0,0,1,1]\n",
    "    x2=[0,1,0,1]\n",
    "    y=[1,1,1,1]\n",
    "    w1= 0.3\n",
    "    w2= 0.5\n",
    "    lr=0.5\n",
    "    b=0.4\n",
    "    \n",
    "    i=0\n",
    "    while i<4:\n",
    "        y1=w1*x1[i] + w2*x2[i]+b\n",
    "        out= activation(y1)\n",
    "\n",
    "        if out!=y[i]:\n",
    "            w1=w1+ lr*(y[i]-out)*x1[i]\n",
    "            w2=w2+ lr*(y[i]-out)*x2[i]\n",
    "            b+=(y[i]-out)*lr\n",
    "            i=-1\n",
    "\n",
    "        i+=1\n",
    "    res=(w1*inp1) + (w2*inp2) + b\n",
    "    \n",
    "    res=activation(res)\n",
    "    return res\n",
    "\n",
    "inp1=int(input(\"Enter input1: \"))\n",
    "inp2=int(input(\"Enter input2: \"))\n",
    "\n",
    "perceptron(inp1,inp2)"
   ]
  },
  {
   "cell_type": "markdown",
   "id": "6c3f0f7c-1775-48cf-b3dd-574848bc1ea2",
   "metadata": {
    "tags": []
   },
   "source": [
    "## 2.\tImplement the 2-bit input NOT Logic Gate using Perceptron Algorithm "
   ]
  },
  {
   "cell_type": "code",
   "execution_count": 4,
   "id": "3932bc25-2e55-4131-9436-da404180487b",
   "metadata": {},
   "outputs": [
    {
     "name": "stdin",
     "output_type": "stream",
     "text": [
      "Enter NOT input0:  0\n"
     ]
    },
    {
     "name": "stdout",
     "output_type": "stream",
     "text": [
      "-0.5\n"
     ]
    },
    {
     "data": {
      "text/plain": [
       "1"
      ]
     },
     "execution_count": 4,
     "metadata": {},
     "output_type": "execute_result"
    }
   ],
   "source": [
    "def activation(o):\n",
    "    if o>=0:\n",
    "        return 1\n",
    "    else:\n",
    "        return 0\n",
    "    \n",
    "def perceptron(inp1):\n",
    "    a=[0,1]\n",
    "    y=[1,0]\n",
    "    \n",
    "    w1= 0.5 \n",
    "    lr=0.5  \n",
    "    b=0\n",
    "    \n",
    "    i=0\n",
    "    while i<2:\n",
    "        o= w1*a[i] \n",
    "        out= activation(o)\n",
    "\n",
    "        if out!=y[i]:\n",
    "            w1=w1+ lr*(y[i]-out)*a[i]\n",
    "            i=-1\n",
    "        i+=1\n",
    "        \n",
    "    res=w1*inp1 \n",
    "    res=activation(res)\n",
    "    print(w1)\n",
    "    \n",
    "    return res\n",
    "inp1=int(input(\"Enter NOT input0: \"))\n",
    "perceptron(inp1)"
   ]
  },
  {
   "cell_type": "markdown",
   "id": "a7b6766c-0469-447d-97ce-3705851492c9",
   "metadata": {},
   "source": [
    "## 3.\tImplement the 2-bit input AND Logic Gate using Perceptron Algorithm "
   ]
  },
  {
   "cell_type": "code",
   "execution_count": 8,
   "id": "9429b423-f474-4c7b-9642-3b72a8ddf087",
   "metadata": {},
   "outputs": [
    {
     "name": "stdin",
     "output_type": "stream",
     "text": [
      "Enter AND input1:  1\n",
      "Enter AND input2:  1\n"
     ]
    },
    {
     "data": {
      "text/plain": [
       "1"
      ]
     },
     "execution_count": 8,
     "metadata": {},
     "output_type": "execute_result"
    }
   ],
   "source": [
    "def activation(y1):\n",
    "    if y1>=0:\n",
    "        return 1\n",
    "    else:\n",
    "        return 0\n",
    "    \n",
    "def perceptron(inp1,inp2):\n",
    "    x1=[0,0,1,1]\n",
    "    x2=[0,1,0,1]\n",
    "    y=[0,0,0,1]\n",
    "    \n",
    "    w1= 0.3\n",
    "    w2= 0.5\n",
    "    lr=0.5\n",
    "    b=0.4\n",
    "    \n",
    "    i=0\n",
    "    while i<4:\n",
    "        y1=w1*x1[i] + w2*x2[i]+b\n",
    "        out= activation(y1)\n",
    "\n",
    "        if out!=y[i]:\n",
    "            w1=w1+ lr*(y[i]-out)*x1[i]\n",
    "            w2=w2+ lr*(y[i]-out)*x2[i]\n",
    "            b+=(y[i]-out)*lr\n",
    "            i=-1\n",
    "\n",
    "        i+=1\n",
    "    res=(w1*inp1) + (w2*inp2) + b\n",
    "    \n",
    "    res=activation(res)\n",
    "    return res\n",
    "\n",
    "inp1=int(input(\"Enter AND input1: \"))\n",
    "inp2=int(input(\"Enter AND input2: \"))\n",
    "\n",
    "perceptron(inp1,inp2)"
   ]
  },
  {
   "cell_type": "markdown",
   "id": "7ae53ea8-3db4-4447-a889-5d719b236f29",
   "metadata": {},
   "source": [
    "## 4.\tImplement the 2-bit input OR Logic Gate using Perceptron Algorithm  "
   ]
  },
  {
   "cell_type": "code",
   "execution_count": 12,
   "id": "5463002e-c253-488c-b4cd-3010766887eb",
   "metadata": {},
   "outputs": [
    {
     "name": "stdin",
     "output_type": "stream",
     "text": [
      "Enter OR input1:  1\n",
      "Enter OR input2:  1\n"
     ]
    },
    {
     "data": {
      "text/plain": [
       "1"
      ]
     },
     "execution_count": 12,
     "metadata": {},
     "output_type": "execute_result"
    }
   ],
   "source": [
    "def activation(y1):\n",
    "    if y1>=0:\n",
    "        return 1\n",
    "    else:\n",
    "        return 0\n",
    "    \n",
    "def perceptron(inp1,inp2):\n",
    "    x1=[0,0,1,1]\n",
    "    x2=[0,1,0,1]\n",
    "    y=[0,1,1,1]\n",
    "    \n",
    "    w1= 0.3\n",
    "    w2= 0.5\n",
    "    lr=0.5\n",
    "    b=0.4\n",
    "    \n",
    "    i=0\n",
    "    while i<4:\n",
    "        y1=w1*x1[i] + w2*x2[i]+b\n",
    "        out= activation(y1)\n",
    "\n",
    "        if out!=y[i]:\n",
    "            w1=w1+ lr*(y[i]-out)*x1[i]\n",
    "            w2=w2+ lr*(y[i]-out)*x2[i]\n",
    "            b+=(y[i]-out)*lr\n",
    "            \n",
    "            i=-1\n",
    "\n",
    "        i+=1\n",
    "    res=w1*inp1 + w2*inp2 + b\n",
    "    \n",
    "    res=activation(res)\n",
    "    return res\n",
    "\n",
    "inp1=int(input(\"Enter OR input1: \"))\n",
    "inp2=int(input(\"Enter OR input2: \"))\n",
    "\n",
    "perceptron(inp1,inp2)"
   ]
  },
  {
   "cell_type": "markdown",
   "id": "7b39e887-ffe4-4cf5-aa39-70884c594bf0",
   "metadata": {},
   "source": [
    "## 5.\tImplement the 2-bit input NOR Logic Gate using Perceptron Algorithm "
   ]
  },
  {
   "cell_type": "code",
   "execution_count": 25,
   "id": "0c21184c-659a-40ac-b0e4-2fcdb86768d3",
   "metadata": {},
   "outputs": [
    {
     "name": "stdin",
     "output_type": "stream",
     "text": [
      "Enter NOR input1:  1\n",
      "Enter NOR input2:  1\n"
     ]
    },
    {
     "data": {
      "text/plain": [
       "0"
      ]
     },
     "execution_count": 25,
     "metadata": {},
     "output_type": "execute_result"
    }
   ],
   "source": [
    "\n",
    "def activation(y1):\n",
    "    if y1>=0:\n",
    "        return 1\n",
    "    else:\n",
    "        return 0\n",
    "    \n",
    "def perceptron(inp1,inp2):\n",
    "    x1=[0,0,1,1]\n",
    "    x2=[0,1,0,1]\n",
    "    y=[1,0,0,0]\n",
    "    \n",
    "    w1= 0.3\n",
    "    w2= 0.5\n",
    "    lr=0.5\n",
    "    b=0.4\n",
    "    \n",
    "    \n",
    "    i=0\n",
    "    while i<4:\n",
    "        y1=w1*x1[i] + w2*x2[i] + b\n",
    "        out= activation(y1)\n",
    "\n",
    "        if out!=y[i]:\n",
    "            w1=w1+ lr*(y[i]-out)*x1[i]\n",
    "            w2=w2+ lr*(y[i]-out)*x2[i]\n",
    "            b+=(y[i]-out)*lr\n",
    "            \n",
    "            i=-1\n",
    "\n",
    "        i+=1\n",
    "    res=w1*inp1 + w2*inp2 + b\n",
    "    \n",
    "    res=activation(res)\n",
    "    return res\n",
    "\n",
    "inp1=int(input(\"Enter NOR input1: \"))\n",
    "inp2=int(input(\"Enter NOR input2: \"))\n",
    "\n",
    "perceptron(inp1,inp2)\n",
    "\n",
    "\n",
    "\n"
   ]
  },
  {
   "cell_type": "markdown",
   "id": "5fdc481a-a666-4759-b70b-bce9263f433c",
   "metadata": {},
   "source": [
    "## 6.\tImplement the 2-bit input NAND Logic Gate using Perceptron Algorithm "
   ]
  },
  {
   "cell_type": "code",
   "execution_count": 32,
   "id": "2a12cef1-b4d7-42e2-b38e-77b2df2a7d0b",
   "metadata": {},
   "outputs": [
    {
     "name": "stdin",
     "output_type": "stream",
     "text": [
      "Enter NAND input1:  1\n",
      "Enter NAND input2:  1\n"
     ]
    },
    {
     "data": {
      "text/plain": [
       "0"
      ]
     },
     "execution_count": 32,
     "metadata": {},
     "output_type": "execute_result"
    }
   ],
   "source": [
    "def activation(y1):\n",
    "    if y1>=0:\n",
    "        return 1\n",
    "    else:\n",
    "        return 0\n",
    "    \n",
    "def perceptron(inp1,inp2):\n",
    "    x1=[0,0,1,1]\n",
    "    x2=[0,1,0,1]\n",
    "    y=[1,1,1,0]\n",
    "    \n",
    "    w1= 0.5\n",
    "    w2= 0.5\n",
    "    lr=0.5\n",
    "    b=0.4\n",
    "    \n",
    "    i=0\n",
    "    while i<4:\n",
    "        y1=w1*x1[i] + w2*x2[i] + b \n",
    "        out= activation(y1)\n",
    "\n",
    "        if out!=y[i]:\n",
    "            w1=w1+ lr*(y[i]-out)*x1[i]\n",
    "            w2=w2+ lr*(y[i]-out)*x2[i]\n",
    "            b+=(y[i]-out)*lr\n",
    "            \n",
    "            i=-1\n",
    "            \n",
    "        i+=1\n",
    "    res=w1*inp1 + w2*inp2 + b\n",
    "    \n",
    "    res=activation(res)\n",
    "    return res\n",
    "\n",
    "inp1=int(input(\"Enter NAND input1: \"))\n",
    "inp2=int(input(\"Enter NAND input2: \"))\n",
    "\n",
    "perceptron(inp1,inp2)"
   ]
  },
  {
   "cell_type": "code",
   "execution_count": 49,
   "id": "b39b9571-6982-44f9-8885-727092d932df",
   "metadata": {},
   "outputs": [],
   "source": [
    "# def activation(y1):\n",
    "#     if y1>=0:\n",
    "#         return 1\n",
    "#     else:\n",
    "#         return 0\n",
    "    \n",
    "# def perceptron():\n",
    "#     x1=[0,0,1,1]\n",
    "#     x2=[0,1,0,1]\n",
    "#     y=[1,0,0,1]\n",
    "    \n",
    "#     w1= 0.5\n",
    "#     w2= 0.5\n",
    "#     lr=0.5\n",
    "#     b=0.4\n",
    "    \n",
    "#     i=0\n",
    "#     while i<4:\n",
    "#         y1=w1*x1[i] + w2*x2[i] + b \n",
    "#         out= activation(y1)\n",
    "\n",
    "#         if out!=y[i]:\n",
    "#             w1=w1+ lr*(y[i]-out)*x1[i]\n",
    "#             w2=w2+ lr*(y[i]-out)*x2[i]\n",
    "#             b+=(y[i]-out)*lr     \n",
    "#         i+=1\n",
    "#     res=w1*inp1 + w2*inp2 + b\n",
    "    \n",
    "#     # res=activation(res)\n",
    "#     return w1,w2,b\n",
    "\n"
   ]
  },
  {
   "cell_type": "code",
   "execution_count": 51,
   "id": "aa48bfeb-56d3-40ec-80f3-c5420ecd9040",
   "metadata": {},
   "outputs": [],
   "source": [
    "# w1,w2,b=perceptron()"
   ]
  },
  {
   "cell_type": "code",
   "execution_count": 62,
   "id": "785b3434-e913-4731-9df0-9f390b74a83a",
   "metadata": {},
   "outputs": [],
   "source": [
    "# inp1=int(input(\"Enter NAND input1: \"))\n",
    "# inp2=int(input(\"Enter NAND input2: \"))\n",
    "\n",
    "# y1=w1*inp1 + w2*inp2 + b \n",
    "# activation(y1)"
   ]
  },
  {
   "cell_type": "code",
   "execution_count": 63,
   "id": "a08c13ba-a588-4715-b57b-ac26c799d034",
   "metadata": {},
   "outputs": [],
   "source": [
    "# inp1=int(input(\"Enter NAND input1: \"))\n",
    "# inp2=int(input(\"Enter NAND input2: \"))\n",
    "\n",
    "# perceptron(inp1,inp2)"
   ]
  },
  {
   "cell_type": "code",
   "execution_count": null,
   "id": "f154fef7-1937-46a3-9ef6-1950cf89c562",
   "metadata": {},
   "outputs": [],
   "source": []
  }
 ],
 "metadata": {
  "kernelspec": {
   "display_name": "Python 3 (ipykernel)",
   "language": "python",
   "name": "python3"
  },
  "language_info": {
   "codemirror_mode": {
    "name": "ipython",
    "version": 3
   },
   "file_extension": ".py",
   "mimetype": "text/x-python",
   "name": "python",
   "nbconvert_exporter": "python",
   "pygments_lexer": "ipython3",
   "version": "3.9.13"
  }
 },
 "nbformat": 4,
 "nbformat_minor": 5
}
