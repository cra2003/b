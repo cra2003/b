{
 "cells": [
  {
   "cell_type": "code",
   "execution_count": 3,
   "id": "c889f38d",
   "metadata": {},
   "outputs": [],
   "source": [
    "import numpy as np\n",
    "from tensorflow.keras.datasets import imdb, mnist\n",
    "from tensorflow.keras.models import Sequential\n",
    "from tensorflow.keras.layers import LSTM, GRU, Dense, Embedding\n",
    "from tensorflow.keras.preprocessing import sequence"
   ]
  },
  {
   "cell_type": "markdown",
   "id": "a4df435c",
   "metadata": {},
   "source": [
    "## Load the IMDb movie review dataset"
   ]
  },
  {
   "cell_type": "code",
   "execution_count": 4,
   "id": "873d411e",
   "metadata": {},
   "outputs": [],
   "source": [
    "max_features = 20000\n",
    "maxlen = 80\n",
    "batch_size = 32\n",
    "(x_train, y_train), (x_test, y_test) = imdb.load_data(num_words=max_features)\n",
    "x_train = sequence.pad_sequences(x_train, maxlen=maxlen)\n",
    "x_test = sequence.pad_sequences(x_test, maxlen=maxlen)"
   ]
  },
  {
   "cell_type": "markdown",
   "id": "53b1407a",
   "metadata": {},
   "source": [
    "## Load the MNIST digit dataset"
   ]
  },
  {
   "cell_type": "code",
   "execution_count": 5,
   "id": "71a46ee7",
   "metadata": {},
   "outputs": [
    {
     "name": "stdout",
     "output_type": "stream",
     "text": [
      "Downloading data from https://storage.googleapis.com/tensorflow/tf-keras-datasets/mnist.npz\n",
      "11490434/11490434 [==============================] - 2s 0us/step\n"
     ]
    }
   ],
   "source": [
    "num_classes = 10\n",
    "(x_train_mnist, y_train_mnist), (x_test_mnist, y_test_mnist) = mnist.load_data()\n",
    "x_train_mnist = x_train_mnist.reshape(60000, 784)\n",
    "x_test_mnist = x_test_mnist.reshape(10000, 784)\n",
    "x_train_mnist = x_train_mnist.astype('float32')\n",
    "x_test_mnist = x_test_mnist.astype('float32')\n",
    "x_train_mnist /= 255\n",
    "x_test_mnist /= 255\n",
    "y_train_mnist = np.eye(num_classes)[y_train_mnist]\n",
    "y_test_mnist = np.eye(num_classes)[y_test_mnist]"
   ]
  },
  {
   "cell_type": "markdown",
   "id": "56e7fb9e",
   "metadata": {},
   "source": [
    "## Define and train the LSTM model for text sequences"
   ]
  },
  {
   "cell_type": "code",
   "execution_count": 6,
   "id": "f97055fe",
   "metadata": {},
   "outputs": [
    {
     "name": "stdout",
     "output_type": "stream",
     "text": [
      "Epoch 1/5\n",
      "782/782 [==============================] - 49s 60ms/step - loss: 0.4305 - accuracy: 0.7958 - val_loss: 0.3608 - val_accuracy: 0.8429\n",
      "Epoch 2/5\n",
      "782/782 [==============================] - 48s 62ms/step - loss: 0.2539 - accuracy: 0.8962 - val_loss: 0.3808 - val_accuracy: 0.8366\n",
      "Epoch 3/5\n",
      "782/782 [==============================] - 48s 61ms/step - loss: 0.1614 - accuracy: 0.9392 - val_loss: 0.4409 - val_accuracy: 0.8269\n",
      "Epoch 4/5\n",
      "782/782 [==============================] - 48s 61ms/step - loss: 0.1011 - accuracy: 0.9633 - val_loss: 0.5678 - val_accuracy: 0.8297\n",
      "Epoch 5/5\n",
      "782/782 [==============================] - 46s 59ms/step - loss: 0.0678 - accuracy: 0.9762 - val_loss: 0.6774 - val_accuracy: 0.8266\n"
     ]
    },
    {
     "data": {
      "text/plain": [
       "<keras.src.callbacks.History at 0x7ff71cd71450>"
      ]
     },
     "execution_count": 6,
     "metadata": {},
     "output_type": "execute_result"
    }
   ],
   "source": [
    "lstm_model = Sequential()\n",
    "lstm_model.add(Embedding(max_features, 128))\n",
    "lstm_model.add(LSTM(128, dropout=0.2, recurrent_dropout=0.2))\n",
    "lstm_model.add(Dense(1, activation='sigmoid'))\n",
    "lstm_model.compile(loss='binary_crossentropy', optimizer='adam', metrics=['accuracy'])\n",
    "lstm_model.fit(x_train, y_train, batch_size=batch_size, epochs=5, validation_data=(x_test, y_test))"
   ]
  },
  {
   "cell_type": "markdown",
   "id": "5802a82f",
   "metadata": {},
   "source": [
    "## Define and train the GRU model for text sequences"
   ]
  },
  {
   "cell_type": "code",
   "execution_count": 7,
   "id": "eb6a4e97",
   "metadata": {},
   "outputs": [
    {
     "name": "stdout",
     "output_type": "stream",
     "text": [
      "Epoch 1/5\n",
      "782/782 [==============================] - 44s 55ms/step - loss: 0.4409 - accuracy: 0.7860 - val_loss: 0.3667 - val_accuracy: 0.8349\n",
      "Epoch 2/5\n",
      "782/782 [==============================] - 47s 61ms/step - loss: 0.2481 - accuracy: 0.8999 - val_loss: 0.3529 - val_accuracy: 0.8439\n",
      "Epoch 3/5\n",
      "782/782 [==============================] - 43s 54ms/step - loss: 0.1450 - accuracy: 0.9458 - val_loss: 0.4379 - val_accuracy: 0.8355\n",
      "Epoch 4/5\n",
      "782/782 [==============================] - 43s 54ms/step - loss: 0.0787 - accuracy: 0.9717 - val_loss: 0.6005 - val_accuracy: 0.8254\n",
      "Epoch 5/5\n",
      "782/782 [==============================] - 42s 54ms/step - loss: 0.0455 - accuracy: 0.9854 - val_loss: 0.7694 - val_accuracy: 0.8191\n"
     ]
    },
    {
     "data": {
      "text/plain": [
       "<keras.src.callbacks.History at 0x7ff710d5f350>"
      ]
     },
     "execution_count": 7,
     "metadata": {},
     "output_type": "execute_result"
    }
   ],
   "source": [
    "gru_model = Sequential()\n",
    "gru_model.add(Embedding(max_features, 128))\n",
    "gru_model.add(GRU(128, dropout=0.2, recurrent_dropout=0.2))\n",
    "gru_model.add(Dense(1, activation='sigmoid'))\n",
    "gru_model.compile(loss='binary_crossentropy', optimizer='adam', metrics=['accuracy'])\n",
    "gru_model.fit(x_train, y_train, batch_size=batch_size, epochs=5, validation_data=(x_test, y_test))"
   ]
  },
  {
   "cell_type": "markdown",
   "id": "2d5de70e",
   "metadata": {},
   "source": [
    "## Evaluate the LSTM model and GRU model"
   ]
  },
  {
   "cell_type": "code",
   "execution_count": 8,
   "id": "b06ec4df",
   "metadata": {},
   "outputs": [
    {
     "name": "stdout",
     "output_type": "stream",
     "text": [
      "LSTM Model Accuracy: 82.66%\n"
     ]
    }
   ],
   "source": [
    "lstm_scores = lstm_model.evaluate(x_test, y_test, verbose=0)\n",
    "print(\"LSTM Model Accuracy: %.2f%%\" % (lstm_scores[1] * 100))"
   ]
  },
  {
   "cell_type": "code",
   "execution_count": 9,
   "id": "c1cf779a",
   "metadata": {},
   "outputs": [
    {
     "name": "stdout",
     "output_type": "stream",
     "text": [
      "GRU Model Accuracy: 81.91%\n"
     ]
    }
   ],
   "source": [
    "gru_scores = gru_model.evaluate(x_test, y_test, verbose=0)\n",
    "print(\"GRU Model Accuracy: %.2f%%\" % (gru_scores[1] * 100))"
   ]
  },
  {
   "cell_type": "markdown",
   "id": "35e8b356",
   "metadata": {},
   "source": [
    "### LSTM tends to perform better on longer sequences and tasks that require capturing long-term dependencies, while GRU can be more computationally efficient and perform better on simpler tasks or datasets with shorter sequences"
   ]
  },
  {
   "cell_type": "code",
   "execution_count": null,
   "id": "ae20a310",
   "metadata": {},
   "outputs": [],
   "source": []
  }
 ],
 "metadata": {
  "kernelspec": {
   "display_name": "Python 3 (ipykernel)",
   "language": "python",
   "name": "python3"
  },
  "language_info": {
   "codemirror_mode": {
    "name": "ipython",
    "version": 3
   },
   "file_extension": ".py",
   "mimetype": "text/x-python",
   "name": "python",
   "nbconvert_exporter": "python",
   "pygments_lexer": "ipython3",
   "version": "3.11.4"
  }
 },
 "nbformat": 4,
 "nbformat_minor": 5
}
