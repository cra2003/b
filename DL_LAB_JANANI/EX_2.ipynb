{
 "cells": [
  {
   "cell_type": "markdown",
   "id": "45770c84-2d6b-4780-af1c-599005a5c4b9",
   "metadata": {},
   "source": [
    "## 1. Implement Perceptron Algorithm for XOR Logic Gate with 2-bit Binary Input"
   ]
  },
  {
   "cell_type": "code",
   "execution_count": 22,
   "id": "38e05c49-69fe-4e96-afd1-3ff5747a6f4e",
   "metadata": {},
   "outputs": [
    {
     "name": "stdout",
     "output_type": "stream",
     "text": [
      "After 500 Epochs, Error: 0.5000280715279167\n",
      "After 1000 Epochs, Error: 0.500000371072777\n",
      "After 1500 Epochs, Error: 0.5000000069493367\n",
      "After 2000 Epochs, Error: 0.500000000135759\n",
      "-4.383794536566601e-05 -4.592711797850088e-05 5.323753540223721e-05\n"
     ]
    }
   ],
   "source": [
    "import numpy as np\n",
    "\n",
    "x1 = np.array([0, 0, 1, 1])\n",
    "x2 = np.array([0, 1, 0, 1])\n",
    "y = np.array([0, 1, 1, 0])\n",
    "\n",
    "np.random.seed(42)\n",
    "\n",
    "w1 = np.random.randn()\n",
    "w2 = np.random.randn()\n",
    "b = np.random.randn()\n",
    "learning_rate = 0.1\n",
    "\n",
    "def sigmoid(x):\n",
    "    return 1 / (1 + np.exp(-x))\n",
    "\n",
    "def forward_propagation(x1, x2):\n",
    "    Y_pred = (x1 * w1) + (x2 * w2) + b\n",
    "    return sigmoid(Y_pred)\n",
    "\n",
    "def error_func(y, Y_pred):\n",
    "    return (1/2) * np.sum((y - Y_pred) ** 2)\n",
    "\n",
    "def back_propagation(x1, x2, Y_pred, y):\n",
    "    global w1, w2, b  \n",
    "    dW1 = np.sum((Y_pred - y) * Y_pred * (1 - Y_pred) * x1)\n",
    "    dW2 = np.sum((Y_pred - y) * Y_pred * (1 - Y_pred) * x2)\n",
    "    dB = np.sum((Y_pred - y) * Y_pred * (1 - Y_pred))\n",
    "\n",
    "    w1 -= learning_rate * dW1\n",
    "    w2 -= learning_rate * dW2\n",
    "    b -= learning_rate * dB\n",
    "    return w1,w2,b\n",
    "\n",
    "for epoch in range(2000):\n",
    "    Y_pred = forward_propagation(x1, x2)\n",
    "\n",
    "    if np.all(np.round(Y_pred) == y):\n",
    "        print(\"Weights are W1 =\", w1, \"and W2 =\", w2, \"with bias B =\", b)\n",
    "        break\n",
    "\n",
    "    w1, w2, b = back_propagation(x1, x2, Y_pred, y)\n",
    "\n",
    "    if (epoch + 1) % 500 == 0:\n",
    "        error = error_func(y, Y_pred)\n",
    "        print(\"After\", epoch + 1, \"Epochs, Error:\", error)\n",
    "        \n",
    "print(w1,w2,b)\n",
    "\n",
    "# import numpy as np\n",
    "\n",
    "# X1 = np.array([0, 0, 1, 1])\n",
    "# X2 = np.array([0, 1, 0, 1])\n",
    "# Y = np.array([0, 1, 1, 0])\n",
    "\n",
    "# np.random.seed(42)\n",
    "\n",
    "# # Weight Initialization\n",
    "# W11 = np.random.randn()\n",
    "# W21 = np.random.randn()\n",
    "# B1 = np.random.randn()\n",
    "\n",
    "# W12 = np.random.randn()\n",
    "# W22 = np.random.randn()\n",
    "# B2 = np.random.randn()\n",
    "\n",
    "# W1_out = np.random.randn()\n",
    "# W2_out = np.random.randn()\n",
    "# B_out = np.random.randn()\n",
    "\n",
    "# learning_rate = 0.5\n",
    "\n",
    "# def sigmoid(x):\n",
    "#     return 1 / (1 + np.exp(-x))\n",
    "\n",
    "# def forward_propagation(X1, X2):\n",
    "#     H1_input = (X1 * W11) + (X2 * W21) + B1\n",
    "#     H1_output = sigmoid(H1_input)\n",
    "\n",
    "#     H2_input = (X1 * W12) + (X2 * W22) + B2\n",
    "#     H2_output = sigmoid(H2_input)\n",
    "\n",
    "#     Y_pred_input = (H1_output * W1_out) + (H2_output * W2_out) + B_out\n",
    "#     Y_pred = sigmoid(Y_pred_input)\n",
    "\n",
    "#     return Y_pred, H1_output, H2_output\n",
    "\n",
    "# def error_func(Y, Y_pred):\n",
    "#     return (1/2) * np.sum((Y - Y_pred) ** 2)\n",
    "\n",
    "# def back_propagation(X1, X2, Y_pred, Y, H1_output, H2_output):\n",
    "#     global W11, W21, B1, W12, W22, B2, W1_out, W2_out, B_out\n",
    "\n",
    "#     dY_pred = (Y_pred - Y) * Y_pred * (1 - Y_pred)\n",
    "\n",
    "#     dW1_out = np.sum(H1_output * dY_pred)\n",
    "#     dW2_out = np.sum(H2_output * dY_pred)\n",
    "#     dB_out = np.sum(dY_pred)\n",
    "\n",
    "#     dH2_output = dY_pred * W2_out\n",
    "#     dH2_input = dH2_output * H2_output * (1 - H2_output)\n",
    "#     dW12 = np.sum(X1 * dH2_input)\n",
    "#     dW22 = np.sum(X2 * dH2_input)\n",
    "#     dB2 = np.sum(dH2_input)\n",
    "\n",
    "#     dH1_output = dY_pred * W1_out\n",
    "#     dH1_input = dH1_output * H1_output * (1 - H1_output)\n",
    "#     dW11 = np.sum(X1 * dH1_input)\n",
    "#     dW21 = np.sum(X2 * dH1_input)\n",
    "#     dB1 = np.sum(dH1_input)\n",
    "\n",
    "#     W11 -= learning_rate * dW11\n",
    "#     W21 -= learning_rate * dW21\n",
    "#     B1 -= learning_rate * dB1\n",
    "\n",
    "#     W12 -= learning_rate * dW12\n",
    "#     W22 -= learning_rate * dW22\n",
    "#     B2 -= learning_rate * dB2\n",
    "\n",
    "#     W1_out -= learning_rate * dW1_out\n",
    "#     W2_out -= learning_rate * dW2_out\n",
    "#     B_out -= learning_rate * dB_out\n",
    "\n",
    "# for epoch in range(2000):\n",
    "#     Y_pred, H1_output, H2_output = forward_propagation(X1, X2)\n",
    "\n",
    "#     if np.all(np.round(Y_pred) == Y):\n",
    "#         print(\"Weights are:\\n\")\n",
    "#         print(\"Hidden Layer 1: W11 =\", W11, \" W21 =\", W21, \" B1 =\", B1)\n",
    "#         print(\"Hidden Layer 2: W12 =\", W12, \" W22 =\", W22, \" B2 =\", B2)\n",
    "#         print(\"Output Layer: W1_out =\", W1_out, \" W2_out =\", W2_out, \" B_out =\", B_out)\n",
    "#         break\n",
    "\n",
    "#     back_propagation(X1, X2, Y_pred, Y, H1_output, H2_output)\n",
    "\n",
    "#     if (epoch + 1) % 100 == 0:\n",
    "#         error = error_func(Y, Y_pred)\n",
    "#         print(\"After\", epoch + 1, \"Epochs, Error:\", error)"
   ]
  },
  {
   "cell_type": "code",
   "execution_count": null,
   "id": "3c1355bb-9995-46f1-a6e3-33f0f91e3346",
   "metadata": {},
   "outputs": [],
   "source": []
  },
  {
   "cell_type": "code",
   "execution_count": 21,
   "id": "3b4e1bd6-a4bf-43b8-93d4-6bf9878904f4",
   "metadata": {},
   "outputs": [
    {
     "data": {
      "text/plain": [
       "0"
      ]
     },
     "execution_count": 21,
     "metadata": {},
     "output_type": "execute_result"
    }
   ],
   "source": [
    "import numpy as np\n",
    "def rect_func(x):\n",
    "    if x<=0 :\n",
    "        return 0\n",
    "    else :\n",
    "        return 1\n",
    "\n",
    "def AND(x1,x2):\n",
    "    w1 = 1\n",
    "    w2 = 1\n",
    "    b = -1\n",
    "\n",
    "    y = w1*x1 + w2*x2 + b\n",
    "    y = rect_func(y)\n",
    "    return y\n",
    "\n",
    "def OR(x1,x2):\n",
    "    w1 = 2\n",
    "    w2 = 2\n",
    "    b = -1\n",
    "\n",
    "    y = w1*x1 + w2*x2 + b\n",
    "    y = rect_func(y)\n",
    "    return y\n",
    "\n",
    "def not_gate(x1):\n",
    "    w1=-1\n",
    "    b=0.5\n",
    "    y = w1 * x1 + b\n",
    "    y=rect_func(y)\n",
    "    return y\n",
    "\n",
    "\n",
    "def xor(x1,x2):\n",
    "    y1=AND(x1,x2)\n",
    "    y2=not_gate(y1)\n",
    "    y3=OR(x1,x2)\n",
    "    y=AND(y3,y2)\n",
    "    y=rect_func(y)\n",
    "    return y\n",
    "\n",
    "\n",
    "def xnor(x1,x2):\n",
    "    y1=OR(x1,x2)\n",
    "    y2=not_gate(y1)\n",
    "    y3=AND(x1,x2)\n",
    "    y=OR(y3,y2)\n",
    "    y=rect_func(y)\n",
    "    return y\n",
    "\n",
    "xnor(0,0)\n",
    "xor(0,0)"
   ]
  },
  {
   "cell_type": "markdown",
   "id": "2a8faccf-6fd0-4398-b886-ae791dc220cd",
   "metadata": {
    "tags": []
   },
   "source": [
    "## 3.Single-layer perceptron -“MNIST” dataset(TensorFlow library)"
   ]
  },
  {
   "cell_type": "markdown",
   "id": "8e921c13-e58a-4e0f-b898-17197becc90a",
   "metadata": {},
   "source": [
    "### a) Step1: Import necessary libraries"
   ]
  },
  {
   "cell_type": "code",
   "execution_count": 1,
   "id": "69286ae2-1c73-4e88-83f5-cbe8fe97bef4",
   "metadata": {},
   "outputs": [],
   "source": [
    "import tensorflow as tf\n",
    "import matplotlib.pyplot as plt"
   ]
  },
  {
   "cell_type": "markdown",
   "id": "8f9625e9-9a9b-428e-8243-fbddb66f7f17",
   "metadata": {},
   "source": [
    "### b) Step 2: Load the dataset using “Keras” from tensor flow"
   ]
  },
  {
   "cell_type": "code",
   "execution_count": 3,
   "id": "4e028378-9ddc-4d0a-b40d-112a7e4ef943",
   "metadata": {},
   "outputs": [],
   "source": [
    "minst=tf.keras.datasets.mnist\n",
    "(x_train,y_train),(x_test,y_test)=minst.load_data()"
   ]
  },
  {
   "cell_type": "markdown",
   "id": "fdd0ec0e-efc4-4277-bdfc-91c912446cfb",
   "metadata": {},
   "source": [
    "### c) Step 3: Display the shape and image of the single image in the dataset"
   ]
  },
  {
   "cell_type": "code",
   "execution_count": 4,
   "id": "b6ec5154-482f-4c1d-9c90-bb281a685043",
   "metadata": {},
   "outputs": [
    {
     "data": {
      "image/png": "[encoded data removed]",
      "text/plain": [
       "<Figure size 640x480 with 1 Axes>"
      ]
     },
     "metadata": {},
     "output_type": "display_data"
    }
   ],
   "source": [
    "plt.imshow(x_train[0], cmap='gray')\n",
    "plt.title(f\"Label: {y_train[0]}\")\n",
    "plt.show()"
   ]
  },
  {
   "cell_type": "code",
   "execution_count": 5,
   "id": "bbc83582-347e-4ae8-8ee5-94c679d9f702",
   "metadata": {},
   "outputs": [
    {
     "data": {
      "text/plain": [
       "(28, 28)"
      ]
     },
     "execution_count": 5,
     "metadata": {},
     "output_type": "execute_result"
    }
   ],
   "source": [
    "x_train[0].shape"
   ]
  },
  {
   "cell_type": "markdown",
   "id": "a87a4b11-2a65-452a-b318-987c77c2fbd9",
   "metadata": {},
   "source": [
    "### d)"
   ]
  },
  {
   "cell_type": "code",
   "execution_count": 6,
   "id": "ddadee86-065a-476d-863d-ad54582c26f7",
   "metadata": {},
   "outputs": [
    {
     "data": {
      "text/plain": [
       "(60000, 28, 28)"
      ]
     },
     "execution_count": 6,
     "metadata": {},
     "output_type": "execute_result"
    }
   ],
   "source": [
    "x_train=x_train/255.0\n",
    "x_test=x_test/255.0\n",
    "x_train.shape"
   ]
  },
  {
   "cell_type": "markdown",
   "id": "951244b8-6f67-4d4f-a2a3-1feb7230e286",
   "metadata": {},
   "source": [
    "### e) Step 5: Build a neural network with single-layer perceptron.\n"
   ]
  },
  {
   "cell_type": "code",
   "execution_count": 7,
   "id": "4417a717-e230-49f1-9b53-cbd4d528ec1e",
   "metadata": {},
   "outputs": [],
   "source": [
    "model = tf.keras.Sequential([\n",
    "    tf.keras.layers.Flatten(input_shape=(28, 28)),  # Flatten the 28x28 image to a 1D array\n",
    "    tf.keras.layers.Dense(10, activation='softmax')  # Single-layer perceptron with 10 output nodes for 10 classes\n",
    "])"
   ]
  },
  {
   "cell_type": "code",
   "execution_count": 8,
   "id": "7d6d85c2-6f8b-4ef3-bf8d-ed47228857a0",
   "metadata": {},
   "outputs": [],
   "source": [
    "model.compile(optimizer='adam',\n",
    "              loss='sparse_categorical_crossentropy',\n",
    "              metrics=['accuracy'])\n"
   ]
  },
  {
   "cell_type": "code",
   "execution_count": 9,
   "id": "116a0e8f-30b6-4424-b888-19109d592927",
   "metadata": {},
   "outputs": [
    {
     "name": "stdout",
     "output_type": "stream",
     "text": [
      "Epoch 1/15\n",
      "1875/1875 [==============================] - 3s 1ms/step - loss: 0.4583 - accuracy: 0.8806 - val_loss: 0.3095 - val_accuracy: 0.9139\n",
      "Epoch 2/15\n",
      "1875/1875 [==============================] - 3s 1ms/step - loss: 0.3031 - accuracy: 0.9151 - val_loss: 0.2820 - val_accuracy: 0.9196\n",
      "Epoch 3/15\n",
      "1875/1875 [==============================] - 3s 1ms/step - loss: 0.2827 - accuracy: 0.9212 - val_loss: 0.2769 - val_accuracy: 0.9230\n",
      "Epoch 4/15\n",
      "1875/1875 [==============================] - 2s 1ms/step - loss: 0.2729 - accuracy: 0.9236 - val_loss: 0.2702 - val_accuracy: 0.9243\n",
      "Epoch 5/15\n",
      "1875/1875 [==============================] - 3s 1ms/step - loss: 0.2665 - accuracy: 0.9260 - val_loss: 0.2675 - val_accuracy: 0.9267\n",
      "Epoch 6/15\n",
      "1875/1875 [==============================] - 2s 1ms/step - loss: 0.2618 - accuracy: 0.9269 - val_loss: 0.2660 - val_accuracy: 0.9268\n",
      "Epoch 7/15\n",
      "1875/1875 [==============================] - 3s 1ms/step - loss: 0.2582 - accuracy: 0.9286 - val_loss: 0.2626 - val_accuracy: 0.9278\n",
      "Epoch 8/15\n",
      "1875/1875 [==============================] - 3s 1ms/step - loss: 0.2551 - accuracy: 0.9290 - val_loss: 0.2630 - val_accuracy: 0.9278\n",
      "Epoch 9/15\n",
      "1875/1875 [==============================] - 3s 1ms/step - loss: 0.2524 - accuracy: 0.9300 - val_loss: 0.2691 - val_accuracy: 0.9258\n",
      "Epoch 10/15\n",
      "1875/1875 [==============================] - 2s 1ms/step - loss: 0.2510 - accuracy: 0.9301 - val_loss: 0.2631 - val_accuracy: 0.9280\n",
      "Epoch 11/15\n",
      "1875/1875 [==============================] - 2s 1ms/step - loss: 0.2491 - accuracy: 0.9313 - val_loss: 0.2650 - val_accuracy: 0.9290\n",
      "Epoch 12/15\n",
      "1875/1875 [==============================] - 3s 1ms/step - loss: 0.2476 - accuracy: 0.9314 - val_loss: 0.2634 - val_accuracy: 0.9280\n",
      "Epoch 13/15\n",
      "1875/1875 [==============================] - 2s 1ms/step - loss: 0.2465 - accuracy: 0.9319 - val_loss: 0.2708 - val_accuracy: 0.9252\n",
      "Epoch 14/15\n",
      "1875/1875 [==============================] - 2s 1ms/step - loss: 0.2452 - accuracy: 0.9319 - val_loss: 0.2720 - val_accuracy: 0.9264\n",
      "Epoch 15/15\n",
      "1875/1875 [==============================] - 2s 1ms/step - loss: 0.2438 - accuracy: 0.9325 - val_loss: 0.2650 - val_accuracy: 0.9282\n"
     ]
    }
   ],
   "source": [
    "m= model.fit(x_train,y_train,validation_data=(x_test,y_test),epochs=15, batch_size=32)"
   ]
  },
  {
   "cell_type": "markdown",
   "id": "7dd9b591-e320-48cb-b8b2-1cd546a5fcbf",
   "metadata": {},
   "source": [
    "### f) Step 6: Evaluate the accuracy of the model on the testing data"
   ]
  },
  {
   "cell_type": "code",
   "execution_count": 10,
   "id": "72277b0c-2d43-49d9-a8e9-281045002e1c",
   "metadata": {},
   "outputs": [
    {
     "name": "stdout",
     "output_type": "stream",
     "text": [
      "313/313 [==============================] - 0s 979us/step - loss: 0.2650 - accuracy: 0.9282\n",
      "Accuracy :  0.9282000064849854\n"
     ]
    }
   ],
   "source": [
    "eval=model.evaluate(x_test,y_test)\n",
    "print(\"Accuracy : \", eval[1])"
   ]
  },
  {
   "cell_type": "code",
   "execution_count": null,
   "id": "12aaba15-61a0-4626-8579-a6fb7b7f3c4a",
   "metadata": {},
   "outputs": [],
   "source": []
  },
  {
   "cell_type": "markdown",
   "id": "5e717239-d839-4d4b-b0ea-7cace44b47c7",
   "metadata": {},
   "source": [
    "## 4. Implement a multiple-layer perceptron using the “MNIST” dataset using the TensorFlow library"
   ]
  },
  {
   "cell_type": "code",
   "execution_count": 1,
   "id": "72aba745-b80d-465e-a710-658e66bfe0a9",
   "metadata": {},
   "outputs": [
    {
     "name": "stdout",
     "output_type": "stream",
     "text": [
      "Epoch 1/15\n",
      "1875/1875 [==============================] - 3s 1ms/step - loss: 1.3290 - accuracy: 0.8255 - val_loss: 0.4667 - val_accuracy: 0.8833\n",
      "Epoch 2/15\n",
      "1875/1875 [==============================] - 6s 3ms/step - loss: 0.3312 - accuracy: 0.9155 - val_loss: 0.3287 - val_accuracy: 0.9234\n",
      "Epoch 3/15\n",
      "1875/1875 [==============================] - 7s 4ms/step - loss: 0.2275 - accuracy: 0.9392 - val_loss: 0.2036 - val_accuracy: 0.9494\n",
      "Epoch 4/15\n",
      "1875/1875 [==============================] - 7s 4ms/step - loss: 0.1744 - accuracy: 0.9521 - val_loss: 0.1859 - val_accuracy: 0.9536\n",
      "Epoch 5/15\n",
      "1875/1875 [==============================] - 7s 4ms/step - loss: 0.1529 - accuracy: 0.9595 - val_loss: 0.1666 - val_accuracy: 0.9537\n",
      "Epoch 6/15\n",
      "1875/1875 [==============================] - 6s 3ms/step - loss: 0.1309 - accuracy: 0.9648 - val_loss: 0.1659 - val_accuracy: 0.9606\n",
      "Epoch 7/15\n",
      "1875/1875 [==============================] - 7s 4ms/step - loss: 0.1173 - accuracy: 0.9683 - val_loss: 0.1403 - val_accuracy: 0.9650\n",
      "Epoch 8/15\n",
      "1875/1875 [==============================] - 6s 3ms/step - loss: 0.1031 - accuracy: 0.9728 - val_loss: 0.1434 - val_accuracy: 0.9689\n",
      "Epoch 9/15\n",
      "1875/1875 [==============================] - 4s 2ms/step - loss: 0.0923 - accuracy: 0.9760 - val_loss: 0.2430 - val_accuracy: 0.9592\n",
      "Epoch 10/15\n",
      "1875/1875 [==============================] - 5s 3ms/step - loss: 0.0926 - accuracy: 0.9764 - val_loss: 0.1291 - val_accuracy: 0.9680\n",
      "Epoch 11/15\n",
      "1875/1875 [==============================] - 4s 2ms/step - loss: 0.0833 - accuracy: 0.9791 - val_loss: 0.1452 - val_accuracy: 0.9705\n",
      "Epoch 12/15\n",
      "1875/1875 [==============================] - 5s 3ms/step - loss: 0.0795 - accuracy: 0.9796 - val_loss: 0.1460 - val_accuracy: 0.9715\n",
      "Epoch 13/15\n",
      "1875/1875 [==============================] - 5s 3ms/step - loss: 0.0726 - accuracy: 0.9810 - val_loss: 0.1297 - val_accuracy: 0.9716\n",
      "Epoch 14/15\n",
      "1875/1875 [==============================] - 5s 3ms/step - loss: 0.0706 - accuracy: 0.9822 - val_loss: 0.1977 - val_accuracy: 0.9647\n",
      "Epoch 15/15\n",
      "1875/1875 [==============================] - 5s 3ms/step - loss: 0.0680 - accuracy: 0.9834 - val_loss: 0.1568 - val_accuracy: 0.9730\n"
     ]
    }
   ],
   "source": [
    "import tensorflow as tf\n",
    "import matplotlib.pyplot as plt\n",
    "\n",
    "minst=tf.keras.datasets.mnist\n",
    "(x_train,y_train),(x_test,y_test)=minst.load_data()\n",
    "\n",
    "\n",
    "model = tf.keras.Sequential([\n",
    "    tf.keras.layers.Flatten(input_shape=(28, 28)), \n",
    "    tf.keras.layers.Dense(128, activation='relu'),  \n",
    "    tf.keras.layers.Dense(64, activation='relu'),    \n",
    "    tf.keras.layers.Dense(10, activation='softmax') \n",
    "    ])\n",
    "\n",
    "model.compile(optimizer='adam',\n",
    "              loss='sparse_categorical_crossentropy',\n",
    "              metrics=['accuracy'])\n",
    "\n",
    "m= model.fit(x_train,y_train,validation_data=(x_test,y_test),epochs=15, batch_size=32)"
   ]
  },
  {
   "cell_type": "code",
   "execution_count": 2,
   "id": "f51a7d0b-7012-4f2b-beb8-0695dbe626a2",
   "metadata": {},
   "outputs": [
    {
     "name": "stdout",
     "output_type": "stream",
     "text": [
      "313/313 [==============================] - 0s 1ms/step - loss: 0.1568 - accuracy: 0.9730\n",
      "Accuracy :  0.9729999899864197\n"
     ]
    }
   ],
   "source": [
    "eval=model.evaluate(x_test,y_test)\n",
    "print(\"Accuracy : \", eval[1])"
   ]
  },
  {
   "cell_type": "markdown",
   "id": "9887cc6e-a171-40ee-b742-5cdd44f5aaa2",
   "metadata": {},
   "source": [
    "## 5.Linear Regression Using Tensorflow"
   ]
  },
  {
   "cell_type": "code",
   "execution_count": 27,
   "id": "dd63d660-c831-4b84-93b4-d41038fc3d9c",
   "metadata": {},
   "outputs": [
    {
     "name": "stdout",
     "output_type": "stream",
     "text": [
      "4/4 [==============================] - 0s 5ms/step\n"
     ]
    },
    {
     "data": {
      "image/png": "[encoded data removed]",
      "text/plain": [
       "<Figure size 640x480 with 1 Axes>"
      ]
     },
     "metadata": {},
     "output_type": "display_data"
    }
   ],
   "source": [
    "import tensorflow as tf\n",
    "import numpy as np\n",
    "import matplotlib.pyplot as plt\n",
    "\n",
    "\n",
    "np.random.seed(0)\n",
    "X = np.random.rand(100, 1)\n",
    "y = 3 * X + 2 + np.random.randn(100, 1) * 0.1\n",
    "\n",
    "model = tf.keras.Sequential([\n",
    "    tf.keras.layers.Dense(units=1, input_shape=(1,))\n",
    "])\n",
    "\n",
    "\n",
    "model.compile(optimizer='sgd', loss='mse')\n",
    "\n",
    "model.fit(X, y, epochs=1000, verbose=0)\n",
    "\n",
    "predictions = model.predict(X)\n",
    "\n",
    "plt.scatter(X, y, label='Original data')\n",
    "plt.plot(X, predictions, color='red', label='Linear Regression')\n",
    "plt.xlabel('X')\n",
    "plt.ylabel('y')\n",
    "plt.legend()\n",
    "plt.show()"
   ]
  },
  {
   "cell_type": "code",
   "execution_count": null,
   "id": "a23f2fd1-24b4-4543-bbb3-237029627fbe",
   "metadata": {},
   "outputs": [],
   "source": []
  }
 ],
 "metadata": {
  "kernelspec": {
   "display_name": "Python 3.10.8 64-bit",
   "language": "python",
   "name": "python3"
  },
  "language_info": {
   "codemirror_mode": {
    "name": "ipython",
    "version": 3
   },
   "file_extension": ".py",
   "mimetype": "text/x-python",
   "name": "python",
   "nbconvert_exporter": "python",
   "pygments_lexer": "ipython3",
   "version": "3.10.8"
  },
  "vscode": {
   "interpreter": {
    "hash": "aee8b7b246df8f9039afb4144a1f6fd8d2ca17a180786b69acc140d282b71a49"
   }
  }
 },
 "nbformat": 4,
 "nbformat_minor": 5
}
