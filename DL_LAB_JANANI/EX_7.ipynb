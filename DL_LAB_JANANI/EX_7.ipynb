{
  "cells": [
    {
      "cell_type": "code",
      "execution_count": 1,
      "metadata": {
        "id": "cjHAFdXSXwP4"
      },
      "outputs": [],
      "source": [
        "import tensorflow as tf\n",
        "from tensorflow import keras\n",
        "from tensorflow.keras.datasets import imdb\n",
        "from tensorflow.keras.preprocessing.sequence import pad_sequences\n",
        "from tensorflow.keras.models import Sequential\n",
        "from tensorflow.keras.layers import Embedding,SimpleRNN,Dense,LSTM"
      ]
    },
    {
      "cell_type": "code",
      "execution_count": 3,
      "metadata": {
        "colab": {
          "base_uri": "https://localhost:8080/"
        },
        "id": "FsDITAqXYtqS",
        "outputId": "81be773e-249b-49c9-e82a-4ec0a145d077"
      },
      "outputs": [],
      "source": [
        "maxfeat=200\n",
        "maxlen=200\n",
        "(x_train,y_train),(x_test,y_test)=imdb.load_data(path='/Users/cra/Downloads/imdb.npz',num_words=maxfeat)\n",
        "x_train=pad_sequences(x_train,maxlen=maxlen)\n",
        "x_test=pad_sequences(x_test,maxlen=maxlen)"
      ]
    },
    {
      "cell_type": "code",
      "execution_count": 5,
      "metadata": {},
      "outputs": [
        {
          "data": {
            "text/plain": [
              "array([[  5,  25, 100, ...,  19, 178,  32],\n",
              "       [  0,   0,   0, ...,  16, 145,  95],\n",
              "       [  0,   0,   0, ...,   7, 129, 113],\n",
              "       ...,\n",
              "       [  0,   0,   0, ...,   4,   2,   2],\n",
              "       [  0,   0,   0, ...,  12,   9,  23],\n",
              "       [  0,   0,   0, ...,   2, 131,   9]], dtype=int32)"
            ]
          },
          "execution_count": 5,
          "metadata": {},
          "output_type": "execute_result"
        }
      ],
      "source": [
        " "
      ]
    },
    {
      "cell_type": "code",
      "execution_count": 6,
      "metadata": {
        "id": "tBoz-LlKZvRV"
      },
      "outputs": [],
      "source": [
        "model = Sequential()\n",
        "model.add(Embedding(maxfeat, 32))\n",
        "model.add(SimpleRNN(32))\n",
        "model.add(Dense(1, activation='sigmoid'))\n",
        "model.compile(optimizer='rmsprop', loss='binary_crossentropy', metrics=['accuracy'])"
      ]
    },
    {
      "cell_type": "code",
      "execution_count": 7,
      "metadata": {
        "colab": {
          "base_uri": "https://localhost:8080/"
        },
        "id": "1zJri-f_b1Ws",
        "outputId": "14021776-79f3-4630-c0e6-c081106173fe"
      },
      "outputs": [
        {
          "name": "stdout",
          "output_type": "stream",
          "text": [
            "Epoch 1/4\n",
            "49/49 [==============================] - 23s 334ms/step - loss: 0.6837 - accuracy: 0.5514\n",
            "Epoch 2/4\n",
            "49/49 [==============================] - 15s 313ms/step - loss: 0.5673 - accuracy: 0.7226\n",
            "Epoch 3/4\n",
            "49/49 [==============================] - 16s 332ms/step - loss: 0.4152 - accuracy: 0.8198\n",
            "Epoch 4/4\n",
            "49/49 [==============================] - 15s 296ms/step - loss: 0.3519 - accuracy: 0.8546\n"
          ]
        },
        {
          "data": {
            "text/plain": [
              "<keras.callbacks.History at 0x7d93a3de3c70>"
            ]
          },
          "execution_count": 7,
          "metadata": {},
          "output_type": "execute_result"
        }
      ],
      "source": [
        "model.fit(x_train,y_train,batch_size=512,epochs=4)"
      ]
    },
    {
      "cell_type": "code",
      "execution_count": 14,
      "metadata": {
        "colab": {
          "base_uri": "https://localhost:8080/"
        },
        "id": "5GJHt-Q-cEtO",
        "outputId": "cca5e234-485a-4656-d848-56cd33360eb2"
      },
      "outputs": [
        {
          "name": "stdout",
          "output_type": "stream",
          "text": [
            "782/782 [==============================] - 14s 18ms/step - loss: 0.3915 - accuracy: 0.8325\n",
            "Vannila Accuracy: 0.8325200080871582\n"
          ]
        }
      ],
      "source": [
        "score=model.evaluate(x_test,y_test)\n",
        "print(\"Vannila Accuracy:\",score[1])"
      ]
    },
    {
      "cell_type": "code",
      "execution_count": 12,
      "metadata": {
        "colab": {
          "base_uri": "https://localhost:8080/"
        },
        "id": "bsrV8zEoc5C6",
        "outputId": "711b6278-3f65-4abd-8e20-a3924f286624"
      },
      "outputs": [
        {
          "name": "stdout",
          "output_type": "stream",
          "text": [
            "Epoch 1/4\n",
            "49/49 [==============================] - 10s 145ms/step - loss: 0.6900 - accuracy: 0.5656\n",
            "Epoch 2/4\n",
            "49/49 [==============================] - 6s 112ms/step - loss: 0.5899 - accuracy: 0.7025\n",
            "Epoch 3/4\n",
            "49/49 [==============================] - 5s 96ms/step - loss: 0.4237 - accuracy: 0.8193\n",
            "Epoch 4/4\n",
            "49/49 [==============================] - 4s 88ms/step - loss: 0.3454 - accuracy: 0.8576\n"
          ]
        },
        {
          "data": {
            "text/plain": [
              "<keras.callbacks.History at 0x7d93a954d7b0>"
            ]
          },
          "execution_count": 12,
          "metadata": {},
          "output_type": "execute_result"
        }
      ],
      "source": [
        "model1 = Sequential()\n",
        "model1.add(Embedding(maxfeat, 32))\n",
        "model1.add(LSTM(32))\n",
        "model1.add(Dense(1, activation='sigmoid'))\n",
        "model1.compile(optimizer='rmsprop', loss='binary_crossentropy', metrics=['accuracy'])\n",
        "model1.fit(x_train,y_train,batch_size=512,epochs=4)"
      ]
    },
    {
      "cell_type": "code",
      "execution_count": 15,
      "metadata": {
        "colab": {
          "base_uri": "https://localhost:8080/"
        },
        "id": "x8k17cgteKrt",
        "outputId": "a65a3162-202a-47c0-9f30-63303319d9cb"
      },
      "outputs": [
        {
          "name": "stdout",
          "output_type": "stream",
          "text": [
            "782/782 [==============================] - 4s 5ms/step - loss: 0.3481 - accuracy: 0.8536\n",
            "Normal Accuracy: 0.853600025177002\n"
          ]
        }
      ],
      "source": [
        "score1=model1.evaluate(x_test,y_test)\n",
        "print(\"Normal Accuracy:\",score1[1])"
      ]
    },
    {
      "cell_type": "code",
      "execution_count": null,
      "metadata": {
        "id": "i3hdDWrEevOs"
      },
      "outputs": [],
      "source": []
    }
  ],
  "metadata": {
    "accelerator": "GPU",
    "colab": {
      "gpuType": "T4",
      "provenance": []
    },
    "kernelspec": {
      "display_name": "Python 3.10.8 64-bit",
      "language": "python",
      "name": "python3"
    },
    "language_info": {
      "codemirror_mode": {
        "name": "ipython",
        "version": 3
      },
      "file_extension": ".py",
      "mimetype": "text/x-python",
      "name": "python",
      "nbconvert_exporter": "python",
      "pygments_lexer": "ipython3",
      "version": "3.10.8"
    },
    "vscode": {
      "interpreter": {
        "hash": "aee8b7b246df8f9039afb4144a1f6fd8d2ca17a180786b69acc140d282b71a49"
      }
    }
  },
  "nbformat": 4,
  "nbformat_minor": 0
}
