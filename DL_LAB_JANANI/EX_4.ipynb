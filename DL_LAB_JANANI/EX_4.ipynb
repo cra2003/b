{
 "cells": [
  {
   "cell_type": "code",
   "execution_count": 1,
   "id": "83c52fe3-d394-4b68-867c-ab6753dbb8e3",
   "metadata": {},
   "outputs": [],
   "source": [
    "import pandas as pd\n",
    "d1=pd.read_csv(r\"C:\\Users\\Karthick NG\\Desktop\\KARTHICK\\SNU\\5TH SEMESTER\\4.Deep_L\\1.DL_LAB\\3\\archive\\DATA.csv\")"
   ]
  },
  {
   "cell_type": "code",
   "execution_count": 3,
   "id": "b729ccac-5628-4f0b-a5b4-ec87c993d147",
   "metadata": {},
   "outputs": [],
   "source": [
    "import tensorflow as tf\n",
    "from sklearn.model_selection import train_test_split\n",
    "from tensorflow.keras import layers, models\n",
    "x = d1.drop('price_range', axis=1)\n",
    "y = d1['price_range']\n",
    "\n",
    "X_train, X_test, y_train, y_test = train_test_split(x, y, test_size=0.2, random_state=42)"
   ]
  },
  {
   "cell_type": "markdown",
   "id": "2987e9f0-c181-4228-aa08-3bb1ba2677aa",
   "metadata": {},
   "source": [
    "### L1 LASSO REGULARIZATION"
   ]
  },
  {
   "cell_type": "code",
   "execution_count": 4,
   "id": "9b8be305-785f-48cb-a29f-c17e52f8613a",
   "metadata": {},
   "outputs": [],
   "source": [
    "from tensorflow.keras import regularizers\n",
    "\n",
    "model1 = models.Sequential()\n",
    "model1.add(layers.Dense(128, activation='relu', kernel_regularizer=regularizers.l1(0.01), input_shape=(X_train.shape[1],)))\n",
    "model1.add(layers.Dense(64, activation='relu', kernel_regularizer=regularizers.l1(0.01)))\n",
    "model1.add(layers.Dense(32, activation='relu', kernel_regularizer=regularizers.l1(0.01)))\n",
    "model1.add(layers.Dense(4, activation='softmax'))\n",
    "\n",
    "model1.compile(optimizer='adam',\n",
    "              loss='sparse_categorical_crossentropy',\n",
    "              metrics=['accuracy'])\n"
   ]
  },
  {
   "cell_type": "markdown",
   "id": "4312f13e-5345-43f1-ae4c-f075673230ed",
   "metadata": {},
   "source": [
    "### L2 RIDGE REGULARIZATION"
   ]
  },
  {
   "cell_type": "code",
   "execution_count": 5,
   "id": "d8dc4dc9-7e31-44f5-a74b-f61068f84b95",
   "metadata": {},
   "outputs": [],
   "source": [
    "from tensorflow.keras import regularizers\n",
    "\n",
    "model2 = models.Sequential()\n",
    "model2.add(layers.Dense(128, activation='relu', kernel_regularizer=regularizers.l2(0.01), input_shape=(X_train.shape[1],)))\n",
    "model2.add(layers.Dense(64, activation='relu', kernel_regularizer=regularizers.l2(0.01)))\n",
    "model2.add(layers.Dense(32, activation='relu', kernel_regularizer=regularizers.l2(0.01)))\n",
    "model2.add(layers.Dense(4, activation='softmax'))\n",
    "\n",
    "model2.compile(optimizer='adam',\n",
    "              loss='sparse_categorical_crossentropy',\n",
    "              metrics=['accuracy'])\n"
   ]
  },
  {
   "cell_type": "markdown",
   "id": "429fcbdc-f605-469d-a208-85758d485744",
   "metadata": {},
   "source": [
    "### EARLY STOPPING"
   ]
  },
  {
   "cell_type": "code",
   "execution_count": 8,
   "id": "bdfcc562-5de2-4844-9498-89d283ed6121",
   "metadata": {},
   "outputs": [],
   "source": [
    "from tensorflow.keras.callbacks import EarlyStopping\n",
    "\n",
    "early_stopping = EarlyStopping(patience=10, restore_best_weights=True)\n",
    "\n",
    "model3 = models.Sequential()\n",
    "model3.add(layers.Dense(128, activation='relu', input_shape=(X_train.shape[1],)))\n",
    "model3.add(layers.Dense(64, activation='relu'))\n",
    "model3.add(layers.Dense(32, activation='relu'))\n",
    "model3.add(layers.Dense(4,activation='softmax'))  \n",
    "\n",
    "model3.compile(optimizer='adam',\n",
    "              loss='sparse_categorical_crossentropy',\n",
    "              metrics=['accuracy'])\n",
    "\n"
   ]
  },
  {
   "cell_type": "markdown",
   "id": "2034ccf9-f278-429b-b4df-4926b0704ca9",
   "metadata": {},
   "source": [
    "### DROPOUT"
   ]
  },
  {
   "cell_type": "code",
   "execution_count": 9,
   "id": "e0cbe9bf-8727-4153-a0ec-9e0884eb71b0",
   "metadata": {},
   "outputs": [],
   "source": [
    "model4 = models.Sequential()\n",
    "model4.add(layers.Dense(128, activation='relu', input_shape=(X_train.shape[1],)))\n",
    "model4.add(layers.Dropout(0.5))  # Add dropout with a rate of 0.5 (50% of neurons will be dropped)\n",
    "model4.add(layers.Dense(64, activation='relu'))\n",
    "model4.add(layers.Dropout(0.5))\n",
    "model4.add(layers.Dense(32, activation='relu'))\n",
    "model4.add(layers.Dropout(0.5))\n",
    "model4.add(layers.Dense(4, activation='softmax'))\n",
    "\n",
    "model4.compile(optimizer='adam',\n",
    "              loss='sparse_categorical_crossentropy',\n",
    "              metrics=['accuracy'])\n"
   ]
  },
  {
   "cell_type": "code",
   "execution_count": 11,
   "id": "f922c836-2740-4d87-8b4e-b909e9e9585a",
   "metadata": {},
   "outputs": [
    {
     "name": "stdout",
     "output_type": "stream",
     "text": [
      "13/13 [==============================] - 0s 1ms/step - loss: 2.3462 - accuracy: 0.7150\n",
      "Accuracy :  0.7149999737739563\n"
     ]
    }
   ],
   "source": [
    "model1.fit(X_train, y_train, epochs=100, validation_data=(X_test, y_test), verbose=0)\n",
    "eval=model1.evaluate(X_test,y_test)\n",
    "print(\"Accuracy : \", eval[1])"
   ]
  },
  {
   "cell_type": "code",
   "execution_count": 12,
   "id": "56fea1cf-69e8-43cf-8991-05ee6df0f669",
   "metadata": {},
   "outputs": [
    {
     "name": "stdout",
     "output_type": "stream",
     "text": [
      "13/13 [==============================] - 0s 1ms/step - loss: 1.0379 - accuracy: 0.7050\n",
      "Accuracy :  0.7049999833106995\n"
     ]
    }
   ],
   "source": [
    "model2.fit(X_train, y_train, epochs=100, validation_data=(X_test, y_test), verbose=0)\n",
    "eval=model2.evaluate(X_test,y_test)\n",
    "print(\"Accuracy : \", eval[1])"
   ]
  },
  {
   "cell_type": "code",
   "execution_count": 14,
   "id": "98ab0a9b-19b1-4cd7-b896-63e3a5b354b9",
   "metadata": {},
   "outputs": [
    {
     "name": "stdout",
     "output_type": "stream",
     "text": [
      "13/13 [==============================] - 0s 658us/step - loss: 0.8348 - accuracy: 0.7375\n",
      "Accuracy :  0.737500011920929\n"
     ]
    }
   ],
   "source": [
    "model3.fit(X_train, y_train, epochs=100, validation_data=(X_test, y_test), callbacks=[early_stopping], verbose=0)\n",
    "eval=model3.evaluate(X_test,y_test)\n",
    "print(\"Accuracy : \", eval[1])"
   ]
  },
  {
   "cell_type": "code",
   "execution_count": 15,
   "id": "b207029a-2e7b-4e1b-a0c8-6b6e51c6e53d",
   "metadata": {},
   "outputs": [
    {
     "name": "stdout",
     "output_type": "stream",
     "text": [
      "13/13 [==============================] - 0s 2ms/step - loss: 1.1145 - accuracy: 0.4550\n",
      "Accuracy :  0.45500001311302185\n"
     ]
    }
   ],
   "source": [
    "model4.fit(X_train, y_train, epochs=100, validation_data=(X_test, y_test), verbose=0)\n",
    "eval=model4.evaluate(X_test,y_test)\n",
    "print(\"Accuracy : \", eval[1])"
   ]
  },
  {
   "cell_type": "code",
   "execution_count": null,
   "id": "a79f09ec-d250-42bd-87a8-51271560c268",
   "metadata": {},
   "outputs": [],
   "source": []
  }
 ],
 "metadata": {
  "kernelspec": {
   "display_name": "Python 3.10.8 64-bit",
   "language": "python",
   "name": "python3"
  },
  "language_info": {
   "codemirror_mode": {
    "name": "ipython",
    "version": 3
   },
   "file_extension": ".py",
   "mimetype": "text/x-python",
   "name": "python",
   "nbconvert_exporter": "python",
   "pygments_lexer": "ipython3",
   "version": "3.10.8"
  },
  "vscode": {
   "interpreter": {
    "hash": "aee8b7b246df8f9039afb4144a1f6fd8d2ca17a180786b69acc140d282b71a49"
   }
  }
 },
 "nbformat": 4,
 "nbformat_minor": 5
}
