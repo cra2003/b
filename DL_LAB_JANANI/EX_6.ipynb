{
 "cells": [
  {
   "cell_type": "markdown",
   "id": "22bc27c4-d6f4-4ed6-91ef-bab4df78df5e",
   "metadata": {},
   "source": [
    "# Comparison:\n",
    "\n",
    "## Number of parameters:\n",
    "CNNs typically have fewer parameters compared to ANNs due to weight sharing and the use of convolutional and pooling layers. \n",
    "ANN might have several tens of thousands to a few hundred thousand parameters.\n",
    "\n",
    "## Accuracy: \n",
    "CNN-98.72%\n",
    "ANN-97.63%\n",
    "\n",
    "In MNIST, CNNs are generally preferred due to their ability to capture  patterns efficiently, leading to higher accuracy with fewer parameters compared to  ANNs."
   ]
  },
  {
   "cell_type": "code",
   "execution_count": 9,
   "id": "831c26d5-5f50-426a-ad37-aea451885148",
   "metadata": {},
   "outputs": [],
   "source": [
    "import tensorflow as tf\n",
    "from tensorflow.keras.datasets import mnist\n",
    "from tensorflow.keras.models import Sequential\n",
    "from tensorflow.keras.layers import Dense, Flatten, Conv2D, MaxPooling2D\n",
    "from tensorflow.keras.utils import to_categorical"
   ]
  },
  {
   "cell_type": "code",
   "execution_count": 10,
   "id": "4cd1336e-e3f6-4ee0-9146-386efbf992dc",
   "metadata": {},
   "outputs": [],
   "source": [
    "(x_train, y_train), (x_test, y_test) = mnist.load_data()\n",
    "x_train = x_train.reshape(-1, 28, 28, 1).astype('float32') / 255.0\n",
    "x_test = x_test.reshape(-1, 28, 28, 1).astype('float32') / 255.0\n",
    "y_train = to_categorical(y_train, 10)\n",
    "y_test = to_categorical(y_test, 10)"
   ]
  },
  {
   "cell_type": "markdown",
   "id": "5007c581-625c-44cf-8868-b686824e5577",
   "metadata": {},
   "source": [
    "# Artificial Neural Network (ANN) "
   ]
  },
  {
   "cell_type": "code",
   "execution_count": 11,
   "id": "ecc1416d-f3e9-49e8-8fd5-e63c14fa1466",
   "metadata": {},
   "outputs": [],
   "source": [
    "ann_model = Sequential([\n",
    "    Flatten(input_shape=(28, 28, 1)),\n",
    "    Dense(128, activation='relu'),\n",
    "    Dense(64, activation='relu'),\n",
    "    Dense(10, activation='softmax')\n",
    "])\n"
   ]
  },
  {
   "cell_type": "code",
   "execution_count": 12,
   "id": "8d46a14b-e6fc-41e7-acc1-53e5fddc4dbc",
   "metadata": {},
   "outputs": [
    {
     "name": "stdout",
     "output_type": "stream",
     "text": [
      "Epoch 1/10\n",
      "1500/1500 [==============================] - 5s 3ms/step - loss: 0.2652 - accuracy: 0.9215 - val_loss: 0.1435 - val_accuracy: 0.9584\n",
      "Epoch 2/10\n",
      "1500/1500 [==============================] - 5s 4ms/step - loss: 0.1137 - accuracy: 0.9654 - val_loss: 0.1051 - val_accuracy: 0.9680\n",
      "Epoch 3/10\n",
      "1500/1500 [==============================] - 5s 3ms/step - loss: 0.0795 - accuracy: 0.9744 - val_loss: 0.1090 - val_accuracy: 0.9689\n",
      "Epoch 4/10\n",
      "1500/1500 [==============================] - 4s 3ms/step - loss: 0.0597 - accuracy: 0.9812 - val_loss: 0.0873 - val_accuracy: 0.9758\n",
      "Epoch 5/10\n",
      "1500/1500 [==============================] - 5s 3ms/step - loss: 0.0457 - accuracy: 0.9847 - val_loss: 0.0985 - val_accuracy: 0.9725\n",
      "Epoch 6/10\n",
      "1500/1500 [==============================] - 5s 4ms/step - loss: 0.0390 - accuracy: 0.9871 - val_loss: 0.0938 - val_accuracy: 0.9762\n",
      "Epoch 7/10\n",
      "1500/1500 [==============================] - 4s 3ms/step - loss: 0.0308 - accuracy: 0.9900 - val_loss: 0.0951 - val_accuracy: 0.9758\n",
      "Epoch 8/10\n",
      "1500/1500 [==============================] - 5s 3ms/step - loss: 0.0259 - accuracy: 0.9914 - val_loss: 0.1110 - val_accuracy: 0.9730\n",
      "Epoch 9/10\n",
      "1500/1500 [==============================] - 5s 3ms/step - loss: 0.0240 - accuracy: 0.9920 - val_loss: 0.1274 - val_accuracy: 0.9702\n",
      "Epoch 10/10\n",
      "1500/1500 [==============================] - 5s 3ms/step - loss: 0.0205 - accuracy: 0.9933 - val_loss: 0.1106 - val_accuracy: 0.9754\n"
     ]
    },
    {
     "data": {
      "text/plain": [
       "<keras.callbacks.History at 0x1a1db784760>"
      ]
     },
     "execution_count": 12,
     "metadata": {},
     "output_type": "execute_result"
    }
   ],
   "source": [
    "ann_model.compile(optimizer='adam', loss='categorical_crossentropy', metrics=['accuracy'])\n",
    "ann_model.fit(x_train, y_train, epochs=10, batch_size=32, validation_split=0.2)"
   ]
  },
  {
   "cell_type": "code",
   "execution_count": 14,
   "id": "b2889873-5ad1-4993-bc03-434810bd5775",
   "metadata": {},
   "outputs": [
    {
     "name": "stdout",
     "output_type": "stream",
     "text": [
      "313/313 [==============================] - 0s 1ms/step - loss: 0.1048 - accuracy: 0.9763\n",
      "ANN Test Accuracy: 97.63%\n"
     ]
    }
   ],
   "source": [
    "ann_loss, ann_accuracy = ann_model.evaluate(x_test, y_test)\n",
    "print(f\"ANN Test Accuracy: {round(ann_accuracy*100, 2)}%\")"
   ]
  },
  {
   "cell_type": "markdown",
   "id": "90ce7584-af86-40d7-8d1f-36c7459ad1a3",
   "metadata": {},
   "source": [
    "# Convolutional Neural Network (CNN) "
   ]
  },
  {
   "cell_type": "code",
   "execution_count": 15,
   "id": "449b44da-40e2-4d1d-b66f-0c391b5103a4",
   "metadata": {},
   "outputs": [],
   "source": [
    "cnn_model = Sequential([\n",
    "    Conv2D(32, (3, 3), activation='relu', input_shape=(28, 28, 1)),\n",
    "    MaxPooling2D((2, 2)),\n",
    "    Flatten(),\n",
    "    Dense(128, activation='relu'),\n",
    "    Dense(10, activation='softmax')\n",
    "])"
   ]
  },
  {
   "cell_type": "code",
   "execution_count": 16,
   "id": "860123e8-885e-4a1b-9855-c5422311cc82",
   "metadata": {},
   "outputs": [
    {
     "name": "stdout",
     "output_type": "stream",
     "text": [
      "Epoch 1/10\n",
      "1500/1500 [==============================] - 21s 14ms/step - loss: 0.1676 - accuracy: 0.9506 - val_loss: 0.0695 - val_accuracy: 0.9803\n",
      "Epoch 2/10\n",
      "1500/1500 [==============================] - 19s 13ms/step - loss: 0.0550 - accuracy: 0.9832 - val_loss: 0.0649 - val_accuracy: 0.9792\n",
      "Epoch 3/10\n",
      "1500/1500 [==============================] - 18s 12ms/step - loss: 0.0353 - accuracy: 0.9890 - val_loss: 0.0545 - val_accuracy: 0.9836\n",
      "Epoch 4/10\n",
      "1500/1500 [==============================] - 18s 12ms/step - loss: 0.0228 - accuracy: 0.9926 - val_loss: 0.0561 - val_accuracy: 0.9842\n",
      "Epoch 5/10\n",
      "1500/1500 [==============================] - 19s 12ms/step - loss: 0.0152 - accuracy: 0.9954 - val_loss: 0.0620 - val_accuracy: 0.9828\n",
      "Epoch 6/10\n",
      "1500/1500 [==============================] - 18s 12ms/step - loss: 0.0096 - accuracy: 0.9972 - val_loss: 0.0525 - val_accuracy: 0.9854\n",
      "Epoch 7/10\n",
      "1500/1500 [==============================] - 18s 12ms/step - loss: 0.0091 - accuracy: 0.9969 - val_loss: 0.0574 - val_accuracy: 0.9850\n",
      "Epoch 8/10\n",
      "1500/1500 [==============================] - 19s 13ms/step - loss: 0.0071 - accuracy: 0.9977 - val_loss: 0.0686 - val_accuracy: 0.9844\n",
      "Epoch 9/10\n",
      "1500/1500 [==============================] - 19s 13ms/step - loss: 0.0054 - accuracy: 0.9980 - val_loss: 0.0689 - val_accuracy: 0.9853\n",
      "Epoch 10/10\n",
      "1500/1500 [==============================] - 19s 13ms/step - loss: 0.0041 - accuracy: 0.9986 - val_loss: 0.0648 - val_accuracy: 0.9860\n"
     ]
    },
    {
     "data": {
      "text/plain": [
       "<keras.callbacks.History at 0x1a1dbb98c10>"
      ]
     },
     "execution_count": 16,
     "metadata": {},
     "output_type": "execute_result"
    }
   ],
   "source": [
    "cnn_model.compile(optimizer='adam', loss='categorical_crossentropy', metrics=['accuracy'])\n",
    "cnn_model.fit(x_train, y_train, epochs=10, batch_size=32, validation_split=0.2)"
   ]
  },
  {
   "cell_type": "code",
   "execution_count": 17,
   "id": "9cab11a1-0c3e-40ab-959d-b2fb45504e95",
   "metadata": {},
   "outputs": [
    {
     "name": "stdout",
     "output_type": "stream",
     "text": [
      "313/313 [==============================] - 1s 3ms/step - loss: 0.0561 - accuracy: 0.9872\n",
      "CNN Test Accuracy: 98.72%\n"
     ]
    }
   ],
   "source": [
    "cnn_loss, cnn_accuracy = cnn_model.evaluate(x_test, y_test)\n",
    "print(f\"CNN Test Accuracy: {round(cnn_accuracy*100, 2)}%\")"
   ]
  },
  {
   "cell_type": "code",
   "execution_count": null,
   "id": "6a70adbd-ea20-43ad-847e-b9d297cd0982",
   "metadata": {},
   "outputs": [],
   "source": []
  }
 ],
 "metadata": {
  "kernelspec": {
   "display_name": "Python 3.10.8 64-bit",
   "language": "python",
   "name": "python3"
  },
  "language_info": {
   "codemirror_mode": {
    "name": "ipython",
    "version": 3
   },
   "file_extension": ".py",
   "mimetype": "text/x-python",
   "name": "python",
   "nbconvert_exporter": "python",
   "pygments_lexer": "ipython3",
   "version": "3.10.8"
  },
  "vscode": {
   "interpreter": {
    "hash": "aee8b7b246df8f9039afb4144a1f6fd8d2ca17a180786b69acc140d282b71a49"
   }
  }
 },
 "nbformat": 4,
 "nbformat_minor": 5
}
