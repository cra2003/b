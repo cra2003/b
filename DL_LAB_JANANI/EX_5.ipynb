{
 "cells": [
  {
   "cell_type": "markdown",
   "id": "c4d731fc",
   "metadata": {},
   "source": [
    "### CNN- MNIST DATASET"
   ]
  },
  {
   "cell_type": "code",
   "execution_count": 3,
   "id": "44ac3965",
   "metadata": {},
   "outputs": [],
   "source": [
    "import numpy as np\n",
    "import pandas as pd \n",
    "import matplotlib.pyplot as plt"
   ]
  },
  {
   "cell_type": "code",
   "execution_count": null,
   "id": "f896fc35",
   "metadata": {},
   "outputs": [],
   "source": [
    "\n",
    "from tensorflow.keras.datasets.mnist import load_data \n",
    "from tensorflow.keras import Sequential\n",
    "from tensorflow.keras.layers import Conv2D\n",
    "from tensorflow.keras.layers import Dense \n",
    "from tensorflow.keras.layers import Flatten \n",
    "from tensorflow.keras.layers import Dropout \n",
    "from tensorflow.keras.utils import plot_model\n",
    "\n",
    "from tensorflow.keras.datasets import mnist "
   ]
  },
  {
   "cell_type": "code",
   "execution_count": 7,
   "id": "a1bf8b51",
   "metadata": {},
   "outputs": [
    {
     "name": "stdout",
     "output_type": "stream",
     "text": [
      "Downloading data from https://storage.googleapis.com/tensorflow/tf-keras-datasets/mnist.npz\n",
      "11490434/11490434 [==============================] - 6s 1us/step\n"
     ]
    }
   ],
   "source": [
    "(train_x, train_y), (test_x, test_y) = mnist.load_data()"
   ]
  },
  {
   "cell_type": "code",
   "execution_count": 8,
   "id": "c851b8e5",
   "metadata": {},
   "outputs": [],
   "source": [
    "train_x = train_x.reshape((train_x.shape[0], train_x.shape[1], train_x.shape[2], 1))\n",
    "\n",
    "test_x = test_x .reshape((test_x.shape[0], test_x.shape[1], test_x.shape[2], 1))"
   ]
  },
  {
   "cell_type": "code",
   "execution_count": 9,
   "id": "865530c0",
   "metadata": {},
   "outputs": [],
   "source": [
    "train_x = train_x.astype('float32')/255.0\n",
    "\n",
    "test_x = test_x.astype('float32')/255.0"
   ]
  },
  {
   "cell_type": "code",
   "execution_count": 13,
   "id": "86fc7117",
   "metadata": {},
   "outputs": [],
   "source": [
    "shape = train_x.shape[1:]\n",
    "\n",
    "model = Sequential()\n",
    "\n",
    "model.add(Conv2D(32, (3,3), activation='relu', input_shape= shape))\n",
    "model.add(Conv2D(48, (3,3), activation='relu'))\n",
    "model.add(Dropout(0.5))\n",
    "model.add(Flatten())\n",
    "model.add(Dense(500, activation='relu'))\n",
    "model.add(Dense(10, activation='softmax'))"
   ]
  },
  {
   "cell_type": "code",
   "execution_count": 14,
   "id": "243a301c",
   "metadata": {},
   "outputs": [
    {
     "name": "stdout",
     "output_type": "stream",
     "text": [
      "Model: \"sequential_3\"\n",
      "_________________________________________________________________\n",
      " Layer (type)                Output Shape              Param #   \n",
      "=================================================================\n",
      " conv2d_3 (Conv2D)           (None, 26, 26, 32)        320       \n",
      "                                                                 \n",
      " conv2d_4 (Conv2D)           (None, 24, 24, 48)        13872     \n",
      "                                                                 \n",
      " dropout (Dropout)           (None, 24, 24, 48)        0         \n",
      "                                                                 \n",
      " flatten (Flatten)           (None, 27648)             0         \n",
      "                                                                 \n",
      " dense (Dense)               (None, 500)               13824500  \n",
      "                                                                 \n",
      " dense_1 (Dense)             (None, 10)                5010      \n",
      "                                                                 \n",
      "=================================================================\n",
      "Total params: 13843702 (52.81 MB)\n",
      "Trainable params: 13843702 (52.81 MB)\n",
      "Non-trainable params: 0 (0.00 Byte)\n",
      "_________________________________________________________________\n"
     ]
    }
   ],
   "source": [
    "model.summary()"
   ]
  },
  {
   "cell_type": "code",
   "execution_count": 16,
   "id": "66afdf44",
   "metadata": {},
   "outputs": [
    {
     "name": "stdout",
     "output_type": "stream",
     "text": [
      "Epoch 1/10\n",
      "422/422 - 97s - loss: 0.0486 - accuracy: 0.9842 - val_loss: 0.0432 - val_accuracy: 0.9872 - 97s/epoch - 230ms/step\n",
      "Epoch 2/10\n",
      "422/422 - 85s - loss: 0.0253 - accuracy: 0.9921 - val_loss: 0.0388 - val_accuracy: 0.9908 - 85s/epoch - 202ms/step\n",
      "Epoch 3/10\n",
      "422/422 - 84s - loss: 0.0162 - accuracy: 0.9947 - val_loss: 0.0453 - val_accuracy: 0.9882 - 84s/epoch - 198ms/step\n",
      "Epoch 4/10\n",
      "422/422 - 84s - loss: 0.0126 - accuracy: 0.9957 - val_loss: 0.0501 - val_accuracy: 0.9890 - 84s/epoch - 198ms/step\n",
      "Epoch 5/10\n",
      "422/422 - 84s - loss: 0.0110 - accuracy: 0.9963 - val_loss: 0.0386 - val_accuracy: 0.9915 - 84s/epoch - 199ms/step\n",
      "Epoch 6/10\n",
      "422/422 - 84s - loss: 0.0076 - accuracy: 0.9976 - val_loss: 0.0415 - val_accuracy: 0.9908 - 84s/epoch - 199ms/step\n",
      "Epoch 7/10\n",
      "422/422 - 84s - loss: 0.0063 - accuracy: 0.9978 - val_loss: 0.0503 - val_accuracy: 0.9887 - 84s/epoch - 199ms/step\n",
      "Epoch 8/10\n",
      "422/422 - 84s - loss: 0.0064 - accuracy: 0.9980 - val_loss: 0.0346 - val_accuracy: 0.9925 - 84s/epoch - 198ms/step\n",
      "Epoch 9/10\n",
      "422/422 - 85s - loss: 0.0060 - accuracy: 0.9978 - val_loss: 0.0568 - val_accuracy: 0.9908 - 85s/epoch - 200ms/step\n",
      "Epoch 10/10\n",
      "422/422 - 84s - loss: 0.0061 - accuracy: 0.9983 - val_loss: 0.0491 - val_accuracy: 0.9900 - 84s/epoch - 198ms/step\n"
     ]
    }
   ],
   "source": [
    "model.compile(optimizer='adam', loss = 'sparse_categorical_crossentropy',metrics= ['accuracy'] )\n",
    "\n",
    "x=model.fit(train_x, train_y, epochs=10, batch_size = 128, verbose= 2 , validation_split = 0.1)"
   ]
  },
  {
   "cell_type": "code",
   "execution_count": 17,
   "id": "8250b374",
   "metadata": {},
   "outputs": [
    {
     "name": "stdout",
     "output_type": "stream",
     "text": [
      "Accuracy: 98.94999861717224\n"
     ]
    }
   ],
   "source": [
    "loss, accuracy= model.evaluate(test_x, test_y, verbose = 0)\n",
    "\n",
    "print(f'Accuracy: {accuracy*100}')"
   ]
  },
  {
   "cell_type": "code",
   "execution_count": 19,
   "id": "11c0f343",
   "metadata": {},
   "outputs": [
    {
     "name": "stdout",
     "output_type": "stream",
     "text": [
      "313/313 [==============================] - 3s 9ms/step\n"
     ]
    }
   ],
   "source": [
    "test_predictions = model.predict(test_x)"
   ]
  },
  {
   "cell_type": "code",
   "execution_count": null,
   "id": "65de0290",
   "metadata": {},
   "outputs": [],
   "source": []
  },
  {
   "cell_type": "markdown",
   "id": "b219d674",
   "metadata": {},
   "source": [
    "### CONFUSION MATRIX"
   ]
  },
  {
   "cell_type": "code",
   "execution_count": 21,
   "id": "14cd7e92",
   "metadata": {},
   "outputs": [],
   "source": [
    "from sklearn.metrics import confusion_matrix\n",
    "import numpy as np\n",
    "\n",
    "confusion = confusion_matrix(test_y, np.argmax(test_predictions,axis=1))"
   ]
  },
  {
   "cell_type": "code",
   "execution_count": 22,
   "id": "57ca6a55",
   "metadata": {},
   "outputs": [
    {
     "data": {
      "text/plain": [
       "array([[ 974,    0,    1,    0,    1,    0,    2,    1,    0,    1],\n",
       "       [   0, 1135,    0,    0,    0,    0,    0,    0,    0,    0],\n",
       "       [   2,    0, 1025,    0,    0,    0,    0,    4,    1,    0],\n",
       "       [   0,    0,    2, 1002,    0,    3,    0,    1,    2,    0],\n",
       "       [   0,    0,    3,    0,  967,    0,    0,    0,    0,   12],\n",
       "       [   0,    0,    1,    9,    0,  880,    1,    1,    0,    0],\n",
       "       [   3,    2,    0,    1,    4,    4,  943,    0,    1,    0],\n",
       "       [   1,    3,    7,    0,    0,    0,    0, 1010,    1,    6],\n",
       "       [   3,    0,    4,    2,    0,    0,    0,    2,  959,    4],\n",
       "       [   1,    1,    0,    0,    4,    1,    0,    2,    0, 1000]])"
      ]
     },
     "execution_count": 22,
     "metadata": {},
     "output_type": "execute_result"
    }
   ],
   "source": [
    "confusion"
   ]
  },
  {
   "cell_type": "code",
   "execution_count": 24,
   "id": "d219d914",
   "metadata": {},
   "outputs": [],
   "source": [
    "import tensorflow as tf"
   ]
  },
  {
   "cell_type": "markdown",
   "id": "598bc3b0",
   "metadata": {},
   "source": [
    "### ABLATION STUDIES-1"
   ]
  },
  {
   "cell_type": "code",
   "execution_count": 26,
   "id": "2cc07fc7",
   "metadata": {},
   "outputs": [
    {
     "name": "stdout",
     "output_type": "stream",
     "text": [
      "1875/1875 [==============================] - 8s 4ms/step - loss: 0.2933 - accuracy: 0.9126\n"
     ]
    },
    {
     "data": {
      "text/plain": [
       "<keras.src.callbacks.History at 0x7f531d301520>"
      ]
     },
     "execution_count": 26,
     "metadata": {},
     "output_type": "execute_result"
    }
   ],
   "source": [
    "mnist = tf.keras.datasets.mnist\n",
    "\n",
    "(x_train, y_train),(x_test, y_test) = mnist.load_data()\n",
    "x_train, x_test = x_train / 255.0, x_test / 255.0\n",
    "\n",
    "model1 = tf.keras.models.Sequential([\n",
    "  tf.keras.layers.Flatten(),\n",
    "  tf.keras.layers.Dense(512, activation=tf.nn.tanh),\n",
    "  tf.keras.layers.Dropout(0.2),\n",
    "  tf.keras.layers.Dense(10, activation=tf.nn.softmax)\n",
    "])\n",
    "model1.compile(optimizer='adam',\n",
    "              loss='sparse_categorical_crossentropy',\n",
    "              metrics=['accuracy'])\n",
    "\n",
    "\n",
    "model1.fit(x_train, y_train, epochs=1)"
   ]
  },
  {
   "cell_type": "code",
   "execution_count": 35,
   "id": "ef6a5e95",
   "metadata": {},
   "outputs": [
    {
     "name": "stdout",
     "output_type": "stream",
     "text": [
      "Accuracy: 95.34000158309937\n"
     ]
    }
   ],
   "source": [
    "loss1, accuracy1= model1.evaluate(x_test, y_test, verbose = 0)\n",
    "\n",
    "print(f'Accuracy: {accuracy1*100}')"
   ]
  },
  {
   "cell_type": "markdown",
   "id": "eaec82a4",
   "metadata": {},
   "source": [
    "### ABLATION STUDIES-2"
   ]
  },
  {
   "cell_type": "code",
   "execution_count": 29,
   "id": "e1e0e018",
   "metadata": {},
   "outputs": [],
   "source": [
    "model3 = Sequential()\n",
    "\n",
    "model3.add(Conv2D(32, (3,3), activation='relu', input_shape= shape))\n",
    "model3.add(Dropout(0.5))\n",
    "model3.add(Flatten())\n",
    "model3.add(Dense(500, activation='relu'))\n",
    "model3.add(Dense(10, activation='softmax'))"
   ]
  },
  {
   "cell_type": "code",
   "execution_count": 37,
   "id": "361c7da2",
   "metadata": {},
   "outputs": [
    {
     "name": "stdout",
     "output_type": "stream",
     "text": [
      "422/422 - 55s - loss: 0.0449 - accuracy: 0.9850 - val_loss: 0.0524 - val_accuracy: 0.9858 - 55s/epoch - 132ms/step\n"
     ]
    },
    {
     "data": {
      "text/plain": [
       "<keras.src.callbacks.History at 0x7f52f42ee640>"
      ]
     },
     "execution_count": 37,
     "metadata": {},
     "output_type": "execute_result"
    }
   ],
   "source": [
    "model3.compile(optimizer='adam',\n",
    "               loss = 'sparse_categorical_crossentropy',\n",
    "               metrics= ['accuracy'] )\n",
    "\n",
    "model3.fit(train_x, train_y, epochs=1, batch_size = 128, verbose= 2 , validation_split = 0.1)"
   ]
  },
  {
   "cell_type": "code",
   "execution_count": 39,
   "id": "2447648d",
   "metadata": {},
   "outputs": [],
   "source": [
    "# loss3, accuracy3= model3.evaluate(x_test, y_test, verbose = 0)\n",
    "\n",
    "# print(f'Accuracy: {accuracy3*100}')"
   ]
  },
  {
   "cell_type": "code",
   "execution_count": null,
   "id": "35d4c33d",
   "metadata": {},
   "outputs": [],
   "source": []
  }
 ],
 "metadata": {
  "kernelspec": {
   "display_name": "Python 3.10.8 64-bit",
   "language": "python",
   "name": "python3"
  },
  "language_info": {
   "codemirror_mode": {
    "name": "ipython",
    "version": 3
   },
   "file_extension": ".py",
   "mimetype": "text/x-python",
   "name": "python",
   "nbconvert_exporter": "python",
   "pygments_lexer": "ipython3",
   "version": "3.10.8"
  },
  "vscode": {
   "interpreter": {
    "hash": "aee8b7b246df8f9039afb4144a1f6fd8d2ca17a180786b69acc140d282b71a49"
   }
  }
 },
 "nbformat": 4,
 "nbformat_minor": 5
}
