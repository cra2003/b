{
 "cells": [
  {
   "cell_type": "markdown",
   "metadata": {},
   "source": [
    "# MNIST"
   ]
  },
  {
   "cell_type": "code",
   "execution_count": 2,
   "metadata": {},
   "outputs": [
    {
     "name": "stdout",
     "output_type": "stream",
     "text": [
      "Training data shape: (60000, 28, 28)\n",
      "Shape of a single image: (28, 28)\n"
     ]
    },
    {
     "data": {
      "image/png": "[encoded data removed]",
      "text/plain": [
       "<Figure size 640x480 with 1 Axes>"
      ]
     },
     "metadata": {},
     "output_type": "display_data"
    }
   ],
   "source": [
    "import numpy as np\n",
    "import matplotlib.pyplot as plt\n",
    "import tensorflow as tf\n",
    "from tensorflow.keras.datasets import mnist\n",
    "from tensorflow.keras.models import Sequential\n",
    "from tensorflow.keras.layers import Dense\n",
    "\n",
    "# Clear the TensorFlow session\n",
    "tf.keras.backend.clear_session()\n",
    "\n",
    "# Load the MNIST dataset\n",
    "(train_images, train_labels), (test_images, test_labels) = mnist.load_data()\n",
    "\n",
    "# Normalize the pixel values to the range [0, 1]\n",
    "train_images = train_images.astype('float32') / 255.0\n",
    "test_images = test_images.astype('float32') / 255.0\n",
    "\n",
    "# Display the shape of the training dataset\n",
    "print(\"Training data shape:\", train_images.shape)\n",
    "\n",
    "# Display the shape of a single image\n",
    "print(\"Shape of a single image:\", train_images[0].shape)\n",
    "\n",
    "# Display the image of a single image\n",
    "plt.imshow(train_images[0], cmap='gray')\n",
    "plt.axis('off')\n",
    "plt.show()\n"
   ]
  },
  {
   "cell_type": "code",
   "execution_count": null,
   "metadata": {},
   "outputs": [],
   "source": []
  },
  {
   "cell_type": "markdown",
   "metadata": {},
   "source": [
    "# Single layer"
   ]
  },
  {
   "cell_type": "code",
   "execution_count": 4,
   "metadata": {},
   "outputs": [
    {
     "name": "stdout",
     "output_type": "stream",
     "text": [
      "Epoch 1/10\n",
      "1875/1875 [==============================] - 1s 328us/step - loss: 0.7778 - accuracy: 0.8189\n",
      "Epoch 2/10\n",
      "1875/1875 [==============================] - 1s 318us/step - loss: 0.4556 - accuracy: 0.8803\n",
      "Epoch 3/10\n",
      "1875/1875 [==============================] - 1s 313us/step - loss: 0.4030 - accuracy: 0.8909\n",
      "Epoch 4/10\n",
      "1875/1875 [==============================] - 1s 332us/step - loss: 0.3766 - accuracy: 0.8967\n",
      "Epoch 5/10\n",
      "1875/1875 [==============================] - 1s 343us/step - loss: 0.3598 - accuracy: 0.9012\n",
      "Epoch 6/10\n",
      "1875/1875 [==============================] - 1s 319us/step - loss: 0.3479 - accuracy: 0.9039\n",
      "Epoch 7/10\n",
      "1875/1875 [==============================] - 1s 317us/step - loss: 0.3389 - accuracy: 0.9062\n",
      "Epoch 8/10\n",
      "1875/1875 [==============================] - 1s 323us/step - loss: 0.3318 - accuracy: 0.9079\n",
      "Epoch 9/10\n",
      "1875/1875 [==============================] - 1s 315us/step - loss: 0.3259 - accuracy: 0.9094\n",
      "Epoch 10/10\n",
      "1875/1875 [==============================] - 1s 314us/step - loss: 0.3210 - accuracy: 0.9106\n",
      "313/313 [==============================] - 0s 322us/step - loss: 0.3061 - accuracy: 0.9155\n",
      "Testing accuracy: 0.9154999852180481\n"
     ]
    }
   ],
   "source": [
    "# Build the neural network model\n",
    "model = Sequential()\n",
    "model.add(Dense(units=10, activation='softmax', input_shape=(28 * 28,)))\n",
    "\n",
    "# Compile the model\n",
    "model.compile(optimizer='sgd', loss='sparse_categorical_crossentropy', metrics=['accuracy'])\n",
    "\n",
    "# Train the model\n",
    "model.fit(train_images.reshape(-1, 28 * 28), train_labels, epochs=10, batch_size=32)\n",
    "\n",
    "# Evaluate the model on the testing data\n",
    "loss, accuracy = model.evaluate(test_images.reshape(-1, 28 * 28), test_labels)\n",
    "print(\"Testing accuracy:\", accuracy)"
   ]
  },
  {
   "cell_type": "markdown",
   "metadata": {},
   "source": [
    "# Multiple layers"
   ]
  },
  {
   "cell_type": "code",
   "execution_count": 6,
   "metadata": {},
   "outputs": [
    {
     "name": "stdout",
     "output_type": "stream",
     "text": [
      "Epoch 1/10\n",
      "1875/1875 [==============================] - 1s 625us/step - loss: 0.6455 - accuracy: 0.8383\n",
      "Epoch 2/10\n",
      "1875/1875 [==============================] - 1s 576us/step - loss: 0.3423 - accuracy: 0.9049\n",
      "Epoch 3/10\n",
      "1875/1875 [==============================] - 1s 533us/step - loss: 0.2917 - accuracy: 0.9189\n",
      "Epoch 4/10\n",
      "1875/1875 [==============================] - 1s 512us/step - loss: 0.2592 - accuracy: 0.9273\n",
      "Epoch 5/10\n",
      "1875/1875 [==============================] - 1s 514us/step - loss: 0.2352 - accuracy: 0.9342\n",
      "Epoch 6/10\n",
      "1875/1875 [==============================] - 1s 513us/step - loss: 0.2157 - accuracy: 0.9397\n",
      "Epoch 7/10\n",
      "1875/1875 [==============================] - 1s 518us/step - loss: 0.1996 - accuracy: 0.9439\n",
      "Epoch 8/10\n",
      "1875/1875 [==============================] - 1s 520us/step - loss: 0.1858 - accuracy: 0.9481\n",
      "Epoch 9/10\n",
      "1875/1875 [==============================] - 1s 534us/step - loss: 0.1736 - accuracy: 0.9513\n",
      "Epoch 10/10\n",
      "1875/1875 [==============================] - 1s 521us/step - loss: 0.1629 - accuracy: 0.9544\n",
      "313/313 [==============================] - 0s 417us/step - loss: 0.1569 - accuracy: 0.9546\n",
      "Testing accuracy: 0.9545999765396118\n"
     ]
    }
   ],
   "source": [
    "\n",
    "model = Sequential()\n",
    "model.add(Dense(units=128,activation='relu',input_shape=(28*28,)))\n",
    "model.add(Dense(units=10, activation='softmax'))\n",
    "\n",
    "model.compile(optimizer='sgd', loss='sparse_categorical_crossentropy', metrics=['accuracy'])\n",
    "\n",
    "\n",
    "model.fit(train_images.reshape(-1, 28 * 28), train_labels, epochs=10, batch_size=32)\n",
    "\n",
    "\n",
    "loss, accuracy = model.evaluate(test_images.reshape(-1, 28 * 28), test_labels)\n",
    "print(\"Testing accuracy:\", accuracy)"
   ]
  },
  {
   "cell_type": "code",
   "execution_count": 7,
   "metadata": {},
   "outputs": [
    {
     "name": "stdout",
     "output_type": "stream",
     "text": [
      "4/4 [==============================] - 0s 580us/step\n"
     ]
    },
    {
     "data": {
      "image/png": "[encoded data removed]",
      "text/plain": [
       "<Figure size 640x480 with 1 Axes>"
      ]
     },
     "metadata": {},
     "output_type": "display_data"
    }
   ],
   "source": [
    "import tensorflow as tf\n",
    "import numpy as np\n",
    "import matplotlib.pyplot as plt\n",
    "\n",
    "\n",
    "np.random.seed(0)\n",
    "X = np.random.rand(100, 1)\n",
    "y = 3 * X + 2 + np.random.randn(100, 1) * 0.1\n",
    "\n",
    "model = tf.keras.Sequential([\n",
    "    tf.keras.layers.Dense(units=1, input_shape=(1,))\n",
    "])\n",
    "\n",
    "\n",
    "model.compile(optimizer='sgd', loss='mse')\n",
    "\n",
    "model.fit(X, y, epochs=100, verbose=0)\n",
    "\n",
    "predictions = model.predict(X)\n",
    "\n",
    "plt.scatter(X, y, label='Original data')\n",
    "plt.plot(X, predictions, color='red', label='Linear Regression')\n",
    "plt.xlabel('X')\n",
    "plt.ylabel('y')\n",
    "plt.legend()\n",
    "plt.show()"
   ]
  },
  {
   "cell_type": "code",
   "execution_count": null,
   "metadata": {},
   "outputs": [],
   "source": []
  }
 ],
 "metadata": {
  "kernelspec": {
   "display_name": "Python 3.10.8 64-bit",
   "language": "python",
   "name": "python3"
  },
  "language_info": {
   "codemirror_mode": {
    "name": "ipython",
    "version": 3
   },
   "file_extension": ".py",
   "mimetype": "text/x-python",
   "name": "python",
   "nbconvert_exporter": "python",
   "pygments_lexer": "ipython3",
   "version": "3.10.8"
  },
  "orig_nbformat": 4,
  "vscode": {
   "interpreter": {
    "hash": "aee8b7b246df8f9039afb4144a1f6fd8d2ca17a180786b69acc140d282b71a49"
   }
  }
 },
 "nbformat": 4,
 "nbformat_minor": 2
}
