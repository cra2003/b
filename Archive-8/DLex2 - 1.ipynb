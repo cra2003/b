{
 "cells": [
  {
   "cell_type": "code",
   "execution_count": 235,
   "id": "a0cddc50",
   "metadata": {},
   "outputs": [],
   "source": [
    "import numpy as np"
   ]
  },
  {
   "cell_type": "markdown",
   "id": "6f955c0d",
   "metadata": {},
   "source": [
    "# XOR"
   ]
  },
  {
   "cell_type": "code",
   "execution_count": 236,
   "id": "a1c74f19",
   "metadata": {},
   "outputs": [],
   "source": [
    "x=np.array([[0,0],[0,1],[1,0],[1,1]])\n",
    "y=np.array([[0],[1],[1],[0]])"
   ]
  },
  {
   "cell_type": "code",
   "execution_count": 237,
   "id": "29b319ab",
   "metadata": {},
   "outputs": [
    {
     "name": "stdout",
     "output_type": "stream",
     "text": [
      "w1 : [[ 2.09933348 -2.06076292]\n",
      " [ 2.09866838 -2.06008056]] b1 : [-2.10165012  2.05905633] w2 : [[-3.45109656]\n",
      " [-3.51128593]] b2 : [3.32764021]\n"
     ]
    }
   ],
   "source": [
    "def relu(x):\n",
    "    return np.maximum(0, x)\n",
    "\n",
    "def relu_derivative(x):\n",
    "    return 1 * (x > 0)\n",
    "\n",
    "def sigmoid(x):\n",
    "    return 1 / (1 + np.exp(-x))\n",
    "\n",
    "def sigmoid_derivative(x):\n",
    "    return x * (1 - x)\n",
    "\n",
    "def training(x,y,epoch,learning_rate):\n",
    "    \n",
    "    feature=x.shape[1]\n",
    "    hidd_neurons=2\n",
    "    w1=np.random.rand(feature,hidd_neurons)\n",
    "    w2=np.random.rand(hidd_neurons,1)\n",
    "    b1=np.random.rand(hidd_neurons)\n",
    "    b2=np.random.rand()\n",
    "    ep=0\n",
    "    for n in range(epoch):\n",
    "        for inp,lab in zip(x,y):\n",
    "            hidden=np.dot(inp,w1)+b1\n",
    "            #print('epoch ',ep)\n",
    "            hidden_output=relu(hidden)\n",
    "            outp=np.dot(hidden_output,w2)+b2\n",
    "            pred=sigmoid(outp)\n",
    "            out_error=lab-pred\n",
    "            out_delta=out_error*sigmoid_derivative(pred)\n",
    "            hidd_error=np.dot(w2,out_delta)\n",
    "            hidd_delta=hidd_error*relu_derivative(hidden_output)\n",
    "\n",
    "            w2+=learning_rate*np.outer(hidden_output,out_delta)\n",
    "            b2+=out_delta*learning_rate\n",
    "            w1+=learning_rate*np.outer(inp,hidd_delta)\n",
    "            b1+=learning_rate*hidd_delta\n",
    "            ep+=1\n",
    "    print('w1 :' ,w1, 'b1 :', b1,'w2 :', w2,'b2 :', b2)\n",
    "    return w1,b1,w2,b2\n",
    "\n",
    "\n",
    "w1,b1,w2,b2=training(x,y,1000,0.5)\n",
    "\n",
    "def predict(inputs):\n",
    "    hidd_inp=np.dot(inputs,w1)+b1\n",
    "    hidd_out=relu(hidd_inp)\n",
    "    outp=np.dot(hidd_out,w2)+b2\n",
    "    return sigmoid(outp).round()\n"
   ]
  },
  {
   "cell_type": "code",
   "execution_count": 238,
   "id": "1675badc",
   "metadata": {},
   "outputs": [
    {
     "data": {
      "text/plain": [
       "1"
      ]
     },
     "execution_count": 238,
     "metadata": {},
     "output_type": "execute_result"
    }
   ],
   "source": [
    "inputs=[0,1]\n",
    "\n",
    "int(predict(inputs)[0])"
   ]
  },
  {
   "cell_type": "markdown",
   "id": "a07cb8a1",
   "metadata": {},
   "source": [
    "# XNOR"
   ]
  },
  {
   "cell_type": "code",
   "execution_count": 239,
   "id": "78a8e452",
   "metadata": {},
   "outputs": [],
   "source": [
    "x=np.array([[0,0],[0,1],[1,0],[1,1]])\n",
    "y=np.array([[1],[0],[0],[1]])"
   ]
  },
  {
   "cell_type": "code",
   "execution_count": 240,
   "id": "cdd1b5e3",
   "metadata": {},
   "outputs": [
    {
     "name": "stdout",
     "output_type": "stream",
     "text": [
      "w1 : [[2.23287934 2.95821802]\n",
      " [2.23463064 2.9564699 ]] b1 : [ 6.40257790e-04 -2.95674361e+00] w2 : [[-3.03974108]\n",
      " [ 4.91532847]] b2 : [3.01746992]\n"
     ]
    }
   ],
   "source": [
    "def relu(x):\n",
    "    return np.maximum(0, x)\n",
    "\n",
    "def relu_derivative(x):\n",
    "    return 1 * (x > 0)\n",
    "\n",
    "def sigmoid(x):\n",
    "    return 1 / (1 + np.exp(-x))\n",
    "\n",
    "def sigmoid_derivative(x):\n",
    "    return x * (1 - x)\n",
    "\n",
    "def training(x,y,epoch,learning_rate):\n",
    "    \n",
    "    feature=x.shape[1]\n",
    "    hidd_neurons=2\n",
    "    w1=np.random.rand(feature,hidd_neurons)\n",
    "    w2=np.random.rand(hidd_neurons,1)\n",
    "    b1=np.random.rand(hidd_neurons)\n",
    "    b2=np.random.rand()\n",
    "    ep=0\n",
    "    for n in range(epoch):\n",
    "        for inp,lab in zip(x,y):\n",
    "            hidden=np.dot(inp,w1)+b1\n",
    "            #print('epoch ',ep)\n",
    "            hidden_output=relu(hidden)\n",
    "            outp=np.dot(hidden_output,w2)+b2\n",
    "            pred=sigmoid(outp)\n",
    "            out_error=lab-pred\n",
    "            out_delta=out_error*sigmoid_derivative(pred)\n",
    "            hidd_error=np.dot(w2,out_delta)\n",
    "            hidd_delta=hidd_error*relu_derivative(hidden_output)\n",
    "\n",
    "            w2+=learning_rate*np.outer(hidden_output,out_delta)\n",
    "            b2+=out_delta*learning_rate\n",
    "            w1+=learning_rate*np.outer(inp,hidd_delta)\n",
    "            b1+=learning_rate*hidd_delta\n",
    "            ep+=1\n",
    "    print('w1 :' ,w1, 'b1 :', b1,'w2 :', w2,'b2 :', b2)\n",
    "    return w1,b1,w2,b2\n",
    "\n",
    "\n",
    "w1,b1,w2,b2=training(x,y,1000,0.5)\n",
    "\n",
    "def predict(inputs):\n",
    "    hidd_inp=np.dot(inputs,w1)+b1\n",
    "    hidd_out=relu(hidd_inp)\n",
    "    outp=np.dot(hidd_out,w2)+b2\n",
    "    return sigmoid(outp).round()"
   ]
  },
  {
   "cell_type": "code",
   "execution_count": 241,
   "id": "410e73aa",
   "metadata": {},
   "outputs": [
    {
     "data": {
      "text/plain": [
       "0"
      ]
     },
     "execution_count": 241,
     "metadata": {},
     "output_type": "execute_result"
    }
   ],
   "source": [
    "inputs=[0,1]\n",
    "\n",
    "int(predict(inputs)[0])"
   ]
  },
  {
   "cell_type": "code",
   "execution_count": null,
   "id": "b99afc33",
   "metadata": {},
   "outputs": [],
   "source": []
  }
 ],
 "metadata": {
  "kernelspec": {
   "display_name": "Python 3.10.8 64-bit",
   "language": "python",
   "name": "python3"
  },
  "language_info": {
   "codemirror_mode": {
    "name": "ipython",
    "version": 3
   },
   "file_extension": ".py",
   "mimetype": "text/x-python",
   "name": "python",
   "nbconvert_exporter": "python",
   "pygments_lexer": "ipython3",
   "version": "3.10.8"
  },
  "vscode": {
   "interpreter": {
    "hash": "aee8b7b246df8f9039afb4144a1f6fd8d2ca17a180786b69acc140d282b71a49"
   }
  }
 },
 "nbformat": 4,
 "nbformat_minor": 5
}
